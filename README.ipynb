{
 "cells": [
  {
   "cell_type": "markdown",
   "id": "78774281",
   "metadata": {},
   "source": [
    "# paris_workshop_2022\n",
    "Paris Quantitative Economics Workshop 2022"
   ]
  }
 ],
 "metadata": {
  "jupytext": {
   "cell_metadata_filter": "-all",
   "main_language": "python",
   "notebook_metadata_filter": "-all"
  }
 },
 "nbformat": 4,
 "nbformat_minor": 5
}
