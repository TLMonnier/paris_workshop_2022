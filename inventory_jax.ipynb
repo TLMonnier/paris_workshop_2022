{
 "cells": [
  {
   "cell_type": "markdown",
   "metadata": {},
   "source": [
    "# Modeling Inventories\n",
    "\n",
    "In this lecture we will study the time path of inventories for firms that\n",
    "follow so-called s-S inventory dynamics.\n",
    "\n",
    "Such firms\n",
    "\n",
    "1. wait until inventory falls below some level $ s $ and then  \n",
    "1. order sufficient quantities to bring their inventory back up to capacity $ S $.  \n",
    "\n",
    "\n",
    "These kinds of policies are common in practice and also optimal in certain circumstances.\n",
    "\n",
    "In this lecture, we use the following imports:\n"
   ]
  },
  {
   "cell_type": "code",
   "execution_count": 1,
   "metadata": {
    "id": "Jq97kTRIP2S7"
   },
   "outputs": [],
   "source": [
    "import numpy as np\n",
    "import matplotlib.pyplot as plt\n",
    "import jax\n",
    "import jax.numpy as jnp\n",
    "from numba import njit, prange"
   ]
  },
  {
   "cell_type": "markdown",
   "metadata": {},
   "source": [
    "## Dynamics\n",
    "\n",
    "Consider a firm with inventory $ X_t $ at time $t$.\n",
    "\n",
    "The time frequency is daily, so $X_{t+1} - X_t$ gives change in inventory over day $t$.\n",
    "\n",
    "The firm \n",
    "\n",
    "* faces stochastic demand $ \\{ D_t \\} $, which we assume is IID, and\n",
    "* waits until $ X_t \\leq s $ and then restocks up to $ S $ units.\n",
    "\n",
    "\n",
    "With notation $ a^+ := \\max\\{a, 0\\} $, inventory dynamics can be written\n",
    "as\n",
    "\n",
    "$$\n",
    "X_{t+1} =\n",
    "    \\begin{cases}\n",
    "      ( S - D_{t+1})^+ & \\quad \\text{if } X_t \\leq s \\\\\n",
    "      ( X_t - D_{t+1} )^+ &  \\quad \\text{if } X_t > s\n",
    "    \\end{cases}\n",
    "$$\n",
    "\n",
    "In what follows, we will assume that each $ D_t $ is lognormal, so that\n",
    "\n",
    "$$\n",
    "D_t = \\exp(\\mu + \\sigma Z_t)\n",
    "$$\n",
    "\n",
    "where $ \\mu $ and $ \\sigma $ are parameters and $ \\{Z_t\\} $ is IID\n",
    "and standard normal.\n",
    "\n",
    "We will use the following defaults for our parameters:"
   ]
  },
  {
   "cell_type": "code",
   "execution_count": 2,
   "metadata": {
    "id": "KIPpOqhectdl"
   },
   "outputs": [],
   "source": [
    "default_s, default_S = 10, 200\n",
    "default_mu, default_sigma = 1.0, 0.8"
   ]
  },
  {
   "cell_type": "markdown",
   "metadata": {},
   "source": [
    "Here's a simulation of one inventory path:"
   ]
  },
  {
   "cell_type": "code",
   "execution_count": 3,
   "metadata": {},
   "outputs": [
    {
     "data": {
      "image/png": "[encoded data removed]",
      "text/plain": [
       "<Figure size 432x288 with 1 Axes>"
      ]
     },
     "metadata": {
      "needs_background": "light"
     },
     "output_type": "display_data"
    }
   ],
   "source": [
    "def update(x, s=default_s, S=default_S, mu=default_mu, sigma=default_sigma):\n",
    "    Z = np.random.randn()\n",
    "    D = np.exp(mu + sigma * Z)\n",
    "    if x <= s:\n",
    "        return max(S - D, 0)\n",
    "    else:\n",
    "        return max(x - D, 0)\n",
    "\n",
    "def sim_inventory_path(x_init=50, sim_length=100):\n",
    "    X = np.empty(sim_length)\n",
    "    X[0] = x_init\n",
    "\n",
    "    for t in range(sim_length-1):\n",
    "        X[t+1] = update(X[t])\n",
    "    return X\n",
    "\n",
    "sim_length=100\n",
    "X = sim_inventory_path(sim_length=sim_length)\n",
    "s, S = default_s, default_S\n",
    "\n",
    "fig, ax = plt.subplots()\n",
    "bbox = (0., 1.02, 1., .102)\n",
    "legend_args = {'ncol': 3,\n",
    "               'bbox_to_anchor': bbox,\n",
    "               'loc': 3,\n",
    "               'mode': 'expand'}\n",
    "\n",
    "ax.plot(X, label=\"inventory\")\n",
    "ax.plot(np.full(sim_length, s), 'k--', label=\"$s$\")\n",
    "ax.plot(np.full(sim_length, S), 'k-', label=\"$S$\")\n",
    "ax.set_ylim(0, S+10)\n",
    "ax.set_xlabel(\"time\")\n",
    "ax.legend(**legend_args)\n",
    "\n",
    "plt.show()"
   ]
  },
  {
   "cell_type": "markdown",
   "metadata": {},
   "source": [
    "## Restocking Probabilities"
   ]
  },
  {
   "cell_type": "markdown",
   "metadata": {},
   "source": [
    "Suppose that there are risks in the supply chain that the firm needs to manage.\n",
    "\n",
    "In particular, the firm's supplier can guarantee only one resupply (order of size $S$) in the next two months.\n",
    "\n",
    "Let $t=0$ and current inventory $X_0 = 70$.\n",
    "\n",
    "The firm's manager asks us to calculate the probability that firms that the firm needs to restock\n",
    "more than once (i.e., twice or more) in the two months (i.e., 60 days).\n",
    "\n",
    "Our plan is to calculate this probability via Monte Carlo.\n",
    "\n",
    "The basic procedure is:\n",
    "\n",
    "1. Simulate many inventory paths of length 60 starting from $X_0 = 70$.\n",
    "2. Compute the fraction of paths that fall below $s$ (and hence restock) more than once.\n",
    "\n",
    "By the law of large numbers, this fraction converges to the corresponding probability.\n",
    "\n",
    "We will simulate $10^7$ inventory paths."
   ]
  },
  {
   "cell_type": "code",
   "execution_count": 4,
   "metadata": {
    "id": "wKKA4xE2mAj4"
   },
   "outputs": [],
   "source": [
    "sim_size = 10_000_000\n",
    "x_init = 70.0\n",
    "sim_length = 60"
   ]
  },
  {
   "cell_type": "markdown",
   "metadata": {
    "id": "1LZPHrd2lJef"
   },
   "source": [
    "## JIT-Compiled on the CPU with Numba"
   ]
  },
  {
   "cell_type": "markdown",
   "metadata": {},
   "source": [
    "In our first effort, we use loops and just-in-time compilation with Numba."
   ]
  },
  {
   "cell_type": "code",
   "execution_count": 5,
   "metadata": {
    "id": "0Dv7rJKraLGM"
   },
   "outputs": [],
   "source": [
    "@njit\n",
    "def compute_freq_jit(s=default_s,\n",
    "                     S=default_S,\n",
    "                     mu=default_mu,\n",
    "                     sigma=default_sigma,\n",
    "                     sim_length=sim_length, \n",
    "                     x_init=x_init, \n",
    "                     sim_size=sim_size):\n",
    "    \n",
    "    number_of_paths_with_multiple_restock = 0 \n",
    "    \n",
    "    for m in range(sim_size):\n",
    "        x = x_init\n",
    "        restock_counter = 0  # Records number of restocks for inventory path m\n",
    "\n",
    "        for t in range(sim_length):\n",
    "            Z = np.random.randn()\n",
    "            D = np.exp(mu + sigma * Z)\n",
    "            if x <= s:\n",
    "                x = max(S - D, 0)\n",
    "                restock_counter += 1\n",
    "            else:\n",
    "                x = max(x - D, 0)\n",
    "\n",
    "        if restock_counter > 1:\n",
    "            number_of_paths_with_multiple_restock += 1\n",
    "\n",
    "    return number_of_paths_with_multiple_restock / sim_size\n"
   ]
  },
  {
   "cell_type": "code",
   "execution_count": 6,
   "metadata": {
    "colab": {
     "base_uri": "https://localhost:8080/"
    },
    "id": "9wmnGhXhcd0L",
    "outputId": "0b6dc497-778e-46ce-c105-6033523c2b65"
   },
   "outputs": [
    {
     "name": "stdout",
     "output_type": "stream",
     "text": [
      "CPU times: user 19.7 s, sys: 51.9 ms, total: 19.7 s\n",
      "Wall time: 19.6 s\n"
     ]
    },
    {
     "data": {
      "text/plain": [
       "0.113457"
      ]
     },
     "execution_count": 6,
     "metadata": {},
     "output_type": "execute_result"
    }
   ],
   "source": [
    "%%time\n",
    "compute_freq_jit()"
   ]
  },
  {
   "cell_type": "code",
   "execution_count": 118,
   "metadata": {
    "colab": {
     "base_uri": "https://localhost:8080/"
    },
    "id": "9wmnGhXhcd0L",
    "outputId": "0b6dc497-778e-46ce-c105-6033523c2b65"
   },
   "outputs": [
    {
     "name": "stdout",
     "output_type": "stream",
     "text": [
      "CPU times: user 17.1 s, sys: 76.3 ms, total: 17.2 s\n",
      "Wall time: 16.9 s\n"
     ]
    },
    {
     "data": {
      "text/plain": [
       "0.1134431"
      ]
     },
     "execution_count": 118,
     "metadata": {},
     "output_type": "execute_result"
    }
   ],
   "source": [
    "%%time\n",
    "compute_freq_jit()"
   ]
  },
  {
   "cell_type": "markdown",
   "metadata": {
    "id": "1LZPHrd2lJef"
   },
   "source": [
    "## Parallelized on the CPU with Numba"
   ]
  },
  {
   "cell_type": "markdown",
   "metadata": {},
   "source": [
    "For our next effort, we are going to use essentially the same logic and, once again, Numba's JIT compiler.  At the same time, we are going to parallelize over the CPU to distribute the computational burden.\n",
    "\n",
    "For this we set `parallel=True` and change the outer `range` function to `prange`, which has been imported from Numba."
   ]
  },
  {
   "cell_type": "code",
   "execution_count": 7,
   "metadata": {
    "id": "0Dv7rJKraLGM"
   },
   "outputs": [],
   "source": [
    "@njit(parallel=True)\n",
    "def compute_freq_prange(s=default_s,\n",
    "                     S=default_S,\n",
    "                     mu=default_mu,\n",
    "                     sigma=default_sigma,\n",
    "                     sim_length=sim_length, \n",
    "                     x_init=x_init, \n",
    "                     sim_size=sim_size):\n",
    "    \n",
    "    number_of_paths_with_multiple_restock = 0 \n",
    "    \n",
    "    for m in prange(sim_size):\n",
    "        x = x_init\n",
    "        restock_counter = 0  # Records number of restocks for inventory path m\n",
    "\n",
    "        for t in range(sim_length):\n",
    "            Z = np.random.randn()\n",
    "            D = np.exp(mu + sigma * Z)\n",
    "            if x <= s:\n",
    "                x = max(S - D, 0)\n",
    "                restock_counter += 1\n",
    "            else:\n",
    "                x = max(x - D, 0)\n",
    "\n",
    "        if restock_counter > 1:\n",
    "            number_of_paths_with_multiple_restock += 1\n",
    "\n",
    "    return number_of_paths_with_multiple_restock / sim_size\n"
   ]
  },
  {
   "cell_type": "code",
   "execution_count": 8,
   "metadata": {
    "colab": {
     "base_uri": "https://localhost:8080/"
    },
    "id": "9wmnGhXhcd0L",
    "outputId": "0b6dc497-778e-46ce-c105-6033523c2b65"
   },
   "outputs": [
    {
     "name": "stdout",
     "output_type": "stream",
     "text": [
      "CPU times: user 26.6 s, sys: 15.6 ms, total: 26.6 s\n",
      "Wall time: 3.85 s\n"
     ]
    },
    {
     "data": {
      "text/plain": [
       "0.113547"
      ]
     },
     "execution_count": 8,
     "metadata": {},
     "output_type": "execute_result"
    }
   ],
   "source": [
    "%%time\n",
    "compute_freq_prange()"
   ]
  },
  {
   "cell_type": "code",
   "execution_count": 9,
   "metadata": {
    "colab": {
     "base_uri": "https://localhost:8080/"
    },
    "id": "6P2Lt4ELmSAY",
    "outputId": "dfedbc18-38b9-4006-e141-125e834a1d57"
   },
   "outputs": [
    {
     "name": "stdout",
     "output_type": "stream",
     "text": [
      "CPU times: user 26.5 s, sys: 16.1 ms, total: 26.5 s\n",
      "Wall time: 3.41 s\n"
     ]
    },
    {
     "data": {
      "text/plain": [
       "0.1134928"
      ]
     },
     "execution_count": 9,
     "metadata": {},
     "output_type": "execute_result"
    }
   ],
   "source": [
    "%%time\n",
    "compute_freq_prange()"
   ]
  },
  {
   "cell_type": "markdown",
   "metadata": {},
   "source": [
    "Execution time on a machine with 8 cores is around 4 times faster.   Machines with more cores will get greater speed gains."
   ]
  },
  {
   "cell_type": "markdown",
   "metadata": {
    "id": "zuu8XU65qANC"
   },
   "source": [
    "## Vectorized NumPy version"
   ]
  },
  {
   "cell_type": "markdown",
   "metadata": {},
   "source": [
    "As an alternative, let's try a vectorized version that's accelerated just by NumPy operators.\n",
    "\n",
    "The idea is to \n",
    "\n",
    "1. update all the inventory paths at once and\n",
    "2. note which of the paths involve a restock\n",
    "\n",
    "These two operations are vectorized.  The outer loop is not vectorized or accelerated, since it makes little difference to efficiency."
   ]
  },
  {
   "cell_type": "code",
   "execution_count": 10,
   "metadata": {
    "id": "lEqKv-gIZAQn"
   },
   "outputs": [],
   "source": [
    "def compute_freq_vectorized(s=default_s,\n",
    "                            S=default_S,\n",
    "                            mu=default_mu,\n",
    "                            sigma=default_sigma,\n",
    "                            sim_length=sim_length, \n",
    "                            x_init=x_init, \n",
    "                            num_firms=sim_size):\n",
    "  \n",
    "    x = np.full(sim_size, x_init)\n",
    "    restock_counters = np.zeros_like(x)\n",
    "    for i in range(sim_length):\n",
    "        restock_counters += np.where(x < s, 1, 0)\n",
    "        D = np.exp(mu + sigma * np.random.randn(num_firms))\n",
    "        y = np.where(x < s, S, x)\n",
    "        x = np.maximum(y - D, 0)\n",
    "    return np.mean(restock_counters > 1)"
   ]
  },
  {
   "cell_type": "code",
   "execution_count": 11,
   "metadata": {
    "colab": {
     "base_uri": "https://localhost:8080/"
    },
    "id": "StNKu1Mgcmqh",
    "outputId": "a0a77be4-2648-4420-81ea-694ff803bc51"
   },
   "outputs": [
    {
     "name": "stdout",
     "output_type": "stream",
     "text": [
      "CPU times: user 13.3 s, sys: 2.78 s, total: 16.1 s\n",
      "Wall time: 16.1 s\n"
     ]
    },
    {
     "data": {
      "text/plain": [
       "0.1135203"
      ]
     },
     "execution_count": 11,
     "metadata": {},
     "output_type": "execute_result"
    }
   ],
   "source": [
    "%%time\n",
    "compute_freq_vectorized()"
   ]
  },
  {
   "cell_type": "code",
   "execution_count": 12,
   "metadata": {
    "colab": {
     "base_uri": "https://localhost:8080/"
    },
    "id": "1xL3k2HNpmz1",
    "outputId": "f3188472-b0f2-4d58-8797-e7bf85574e3c"
   },
   "outputs": [
    {
     "name": "stdout",
     "output_type": "stream",
     "text": [
      "CPU times: user 13.7 s, sys: 2.69 s, total: 16.4 s\n",
      "Wall time: 16.4 s\n"
     ]
    },
    {
     "data": {
      "text/plain": [
       "0.1136785"
      ]
     },
     "execution_count": 12,
     "metadata": {},
     "output_type": "execute_result"
    }
   ],
   "source": [
    "%%time\n",
    "compute_freq_vectorized()"
   ]
  },
  {
   "cell_type": "markdown",
   "metadata": {},
   "source": [
    "On a typical machine, the speed is similar to the non-parallelized Numba-accelerated version."
   ]
  },
  {
   "cell_type": "markdown",
   "metadata": {
    "id": "Zxlssv4VrrVq"
   },
   "source": [
    "## Vectorized with JAX"
   ]
  },
  {
   "cell_type": "markdown",
   "metadata": {},
   "source": [
    "To further accelerate the operation, let's move to the GPU.  Here's the current device:"
   ]
  },
  {
   "cell_type": "code",
   "execution_count": 13,
   "metadata": {
    "colab": {
     "base_uri": "https://localhost:8080/"
    },
    "id": "-aLGJt7Jv3qo",
    "outputId": "04959b0b-1fdf-48c5-e653-c2521bbd1cb1"
   },
   "outputs": [
    {
     "name": "stdout",
     "output_type": "stream",
     "text": [
      "Tue Aug 16 08:27:41 2022       \r\n",
      "+-----------------------------------------------------------------------------+\r\n",
      "| NVIDIA-SMI 515.65.01    Driver Version: 515.65.01    CUDA Version: 11.7     |\r\n",
      "|-------------------------------+----------------------+----------------------+\r\n",
      "| GPU  Name        Persistence-M| Bus-Id        Disp.A | Volatile Uncorr. ECC |\r\n",
      "| Fan  Temp  Perf  Pwr:Usage/Cap|         Memory-Usage | GPU-Util  Compute M. |\r\n",
      "|                               |                      |               MIG M. |\r\n",
      "|===============================+======================+======================|\r\n",
      "|   0  NVIDIA GeForce ...  Off  | 00000000:3B:00.0 Off |                  N/A |\r\n",
      "| 30%   25C    P8    25W / 320W |      1MiB / 10240MiB |      0%      Default |\r\n",
      "|                               |                      |                  N/A |\r\n",
      "+-------------------------------+----------------------+----------------------+\r\n",
      "                                                                               \r\n",
      "+-----------------------------------------------------------------------------+\r\n",
      "| Processes:                                                                  |\r\n",
      "|  GPU   GI   CI        PID   Type   Process name                  GPU Memory |\r\n",
      "|        ID   ID                                                   Usage      |\r\n",
      "|=============================================================================|\r\n",
      "|  No running processes found                                                 |\r\n",
      "+-----------------------------------------------------------------------------+\r\n"
     ]
    }
   ],
   "source": [
    "!nvidia-smi"
   ]
  },
  {
   "cell_type": "markdown",
   "metadata": {},
   "source": [
    "JAX code is typically vectorized, so our implementation looks a lot like the NumPy vectorized code we showed above.  In fact the only changes are\n",
    "\n",
    "1. `np` is replaced by `jnp` (JAX NumPy) in each instance and\n",
    "2. we use a JAX-specific random number generator."
   ]
  },
  {
   "cell_type": "code",
   "execution_count": 14,
   "metadata": {
    "id": "jNki7Nz-to7x"
   },
   "outputs": [],
   "source": [
    "def compute_freq_jax(s=default_s,\n",
    "                     S=default_S,\n",
    "                     mu=default_mu,\n",
    "                     sigma=default_sigma,\n",
    "                     sim_length=sim_length, \n",
    "                     x_init=x_init, \n",
    "                     sim_size=sim_size):\n",
    "  \n",
    "    \n",
    "    x = jnp.full(sim_size, x_init)\n",
    "    \n",
    "    restock_counters = jnp.zeros_like(x)\n",
    "    for t in range(sim_length):\n",
    "        restock_counters += jnp.where(x < s, 1, 0)\n",
    "        key = jax.random.PRNGKey(t)\n",
    "        Z = jax.random.normal(key, (sim_size,))\n",
    "        D = jnp.exp(mu + sigma * Z)\n",
    "        y = jnp.where(x < s, S, x)\n",
    "        x = jnp.maximum(y - D, 0)\n",
    "    return jnp.mean(restock_counters > 1)"
   ]
  },
  {
   "cell_type": "code",
   "execution_count": 15,
   "metadata": {
    "colab": {
     "base_uri": "https://localhost:8080/"
    },
    "id": "zLB4V7wZuM2J",
    "outputId": "58c68ce8-1f4c-46d9-f6a0-70a0f460353a"
   },
   "outputs": [
    {
     "name": "stdout",
     "output_type": "stream",
     "text": [
      "CPU times: user 666 ms, sys: 215 ms, total: 881 ms\n",
      "Wall time: 1.11 s\n"
     ]
    },
    {
     "data": {
      "text/plain": [
       "DeviceArray(0.1133754, dtype=float32)"
      ]
     },
     "execution_count": 15,
     "metadata": {},
     "output_type": "execute_result"
    }
   ],
   "source": [
    "%%time \n",
    "compute_freq_jax()"
   ]
  },
  {
   "cell_type": "code",
   "execution_count": 17,
   "metadata": {
    "colab": {
     "base_uri": "https://localhost:8080/"
    },
    "id": "vUBoz2MouQSh",
    "outputId": "0d2abe8b-7eff-46e1-8990-1c9d77d49c41"
   },
   "outputs": [
    {
     "name": "stdout",
     "output_type": "stream",
     "text": [
      "CPU times: user 121 ms, sys: 27.4 ms, total: 148 ms\n",
      "Wall time: 123 ms\n"
     ]
    },
    {
     "data": {
      "text/plain": [
       "DeviceArray(0.1133754, dtype=float32)"
      ]
     },
     "execution_count": 17,
     "metadata": {},
     "output_type": "execute_result"
    }
   ],
   "source": [
    "%%time \n",
    "compute_freq_jax()"
   ]
  },
  {
   "cell_type": "code",
   "execution_count": 18,
   "metadata": {
    "colab": {
     "base_uri": "https://localhost:8080/"
    },
    "id": "vUBoz2MouQSh",
    "outputId": "0d2abe8b-7eff-46e1-8990-1c9d77d49c41"
   },
   "outputs": [
    {
     "name": "stdout",
     "output_type": "stream",
     "text": [
      "CPU times: user 111 ms, sys: 25.7 ms, total: 137 ms\n",
      "Wall time: 110 ms\n"
     ]
    },
    {
     "data": {
      "text/plain": [
       "DeviceArray(0.1133754, dtype=float32)"
      ]
     },
     "execution_count": 18,
     "metadata": {},
     "output_type": "execute_result"
    }
   ],
   "source": [
    "%%time \n",
    "compute_freq_jax()"
   ]
  },
  {
   "cell_type": "markdown",
   "metadata": {},
   "source": [
    "With a decent GPU, we now have a huge speed gain --- around two orders of magnitude.\n",
    "\n",
    "But we can do even better..."
   ]
  },
  {
   "cell_type": "markdown",
   "metadata": {
    "id": "Zxlssv4VrrVq"
   },
   "source": [
    "## Vectorized and JIT Compiled with JAX "
   ]
  },
  {
   "cell_type": "markdown",
   "metadata": {},
   "source": [
    "Our next step and final step is to apply JAX's JIT compiler to the JAX implementation given above."
   ]
  },
  {
   "cell_type": "code",
   "execution_count": 19,
   "metadata": {},
   "outputs": [],
   "source": [
    "compute_freq_jax_jit = jax.jit(compute_freq_jax)"
   ]
  },
  {
   "cell_type": "markdown",
   "metadata": {},
   "source": [
    "On the first iteration we expect substatial compile time:"
   ]
  },
  {
   "cell_type": "code",
   "execution_count": 20,
   "metadata": {
    "colab": {
     "base_uri": "https://localhost:8080/"
    },
    "id": "vUBoz2MouQSh",
    "outputId": "0d2abe8b-7eff-46e1-8990-1c9d77d49c41"
   },
   "outputs": [
    {
     "name": "stdout",
     "output_type": "stream",
     "text": [
      "CPU times: user 13.4 s, sys: 118 ms, total: 13.5 s\n",
      "Wall time: 8.97 s\n"
     ]
    },
    {
     "data": {
      "text/plain": [
       "DeviceArray(0.1133755, dtype=float32)"
      ]
     },
     "execution_count": 20,
     "metadata": {},
     "output_type": "execute_result"
    }
   ],
   "source": [
    "%%time \n",
    "compute_freq_jax_jit()"
   ]
  },
  {
   "cell_type": "markdown",
   "metadata": {},
   "source": [
    "Now it's compiled, let's check the speed:"
   ]
  },
  {
   "cell_type": "code",
   "execution_count": 21,
   "metadata": {
    "colab": {
     "base_uri": "https://localhost:8080/"
    },
    "id": "vUBoz2MouQSh",
    "outputId": "0d2abe8b-7eff-46e1-8990-1c9d77d49c41"
   },
   "outputs": [
    {
     "name": "stdout",
     "output_type": "stream",
     "text": [
      "CPU times: user 1.01 ms, sys: 0 ns, total: 1.01 ms\n",
      "Wall time: 458 µs\n"
     ]
    },
    {
     "data": {
      "text/plain": [
       "DeviceArray(0.1133755, dtype=float32)"
      ]
     },
     "execution_count": 21,
     "metadata": {},
     "output_type": "execute_result"
    }
   ],
   "source": [
    "%%time \n",
    "compute_freq_jax_jit()"
   ]
  },
  {
   "cell_type": "markdown",
   "metadata": {},
   "source": [
    "We now have a massive speed gain --- around 4 orders of magnitude."
   ]
  }
 ],
 "metadata": {
  "accelerator": "GPU",
  "colab": {
   "name": "inventory_jax.ipynb",
   "provenance": []
  },
  "gpuClass": "standard",
  "kernelspec": {
   "display_name": "Python 3 (ipykernel)",
   "language": "python",
   "name": "python3"
  },
  "language_info": {
   "codemirror_mode": {
    "name": "ipython",
    "version": 3
   },
   "file_extension": ".py",
   "mimetype": "text/x-python",
   "name": "python",
   "nbconvert_exporter": "python",
   "pygments_lexer": "ipython3",
   "version": "3.9.12"
  }
 },
 "nbformat": 4,
 "nbformat_minor": 1
}
