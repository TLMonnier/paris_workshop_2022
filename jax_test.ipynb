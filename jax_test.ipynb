{
 "cells": [
  {
   "cell_type": "code",
   "execution_count": 1,
   "id": "392f9cff",
   "metadata": {},
   "outputs": [],
   "source": [
    "import jax\n",
    "import jax.numpy as jnp"
   ]
  },
  {
   "cell_type": "code",
   "execution_count": null,
   "id": "a2d6ac2d",
   "metadata": {},
   "outputs": [],
   "source": [
    "def tanh(x):  # Define a function\n",
    "    y = jnp.exp(-2.0 * x)\n",
    "    return (1.0 - y) / (1.0 + y)"
   ]
  },
  {
   "cell_type": "code",
   "execution_count": 2,
   "id": "097ee0f0",
   "metadata": {},
   "outputs": [
    {
     "name": "stdout",
     "output_type": "stream",
     "text": [
      "0.4199743\n"
     ]
    }
   ],
   "source": [
    "grad_tanh = jax.grad(tanh)  # Obtain its gradient function\n",
    "print(grad_tanh(1.0))       # Evaluate it at x = 1.0, prints 0.4199743"
   ]
  },
  {
   "cell_type": "code",
   "execution_count": 3,
   "id": "6f37a9ff",
   "metadata": {},
   "outputs": [],
   "source": [
    "def fwd_solver(f, z_init):\n",
    "    z_prev, z = z_init, f(z_init)\n",
    "    while jnp.linalg.norm(z_prev - z) > 1e-5:\n",
    "        z_prev, z = z, f(z)\n",
    "    return z"
   ]
  },
  {
   "cell_type": "code",
   "execution_count": 4,
   "id": "4c07c2ad",
   "metadata": {},
   "outputs": [],
   "source": [
    "\n",
    "def newton_solver(f, z_init):\n",
    "    f_root = lambda z: f(z) - z\n",
    "    g = lambda z: z - jnp.linalg.solve(jax.jacobian(f_root)(z), f_root(z))\n",
    "    return fwd_solver(g, z_init)"
   ]
  },
  {
   "cell_type": "code",
   "execution_count": 5,
   "id": "9992e540",
   "metadata": {},
   "outputs": [],
   "source": [
    "def fixed_point_layer(solver, f, params, x):\n",
    "    z_star = solver(lambda z: f(params, x, z), z_init=jnp.zeros_like(x))\n",
    "    return z_star"
   ]
  },
  {
   "cell_type": "code",
   "execution_count": 6,
   "id": "f038a792",
   "metadata": {},
   "outputs": [],
   "source": [
    "f = lambda W, x, z: jnp.tanh(jnp.dot(W, z) + x)"
   ]
  },
  {
   "cell_type": "code",
   "execution_count": 7,
   "id": "dd97f313",
   "metadata": {},
   "outputs": [],
   "source": [
    "ndim = 1000\n",
    "W = random.normal(random.PRNGKey(0), (ndim, ndim)) / jnp.sqrt(ndim)\n",
    "x = random.normal(random.PRNGKey(1), (ndim,))"
   ]
  },
  {
   "cell_type": "code",
   "execution_count": 8,
   "id": "d2255a69",
   "metadata": {},
   "outputs": [],
   "source": [
    "z_star = fixed_point_layer(fwd_solver, f, W, x)"
   ]
  },
  {
   "cell_type": "code",
   "execution_count": 9,
   "id": "45df2477",
   "metadata": {},
   "outputs": [],
   "source": [
    "z_star = fixed_point_layer(newton_solver, f, W, x)"
   ]
  },
  {
   "cell_type": "code",
   "execution_count": null,
   "id": "ed424b6f",
   "metadata": {},
   "outputs": [],
   "source": []
  },
  {
   "cell_type": "code",
   "execution_count": null,
   "id": "7a624827",
   "metadata": {},
   "outputs": [],
   "source": []
  }
 ],
 "metadata": {
  "kernelspec": {
   "display_name": "Python 3 (ipykernel)",
   "language": "python",
   "name": "python3"
  },
  "language_info": {
   "codemirror_mode": {
    "name": "ipython",
    "version": 3
   },
   "file_extension": ".py",
   "mimetype": "text/x-python",
   "name": "python",
   "nbconvert_exporter": "python",
   "pygments_lexer": "ipython3",
   "version": "3.9.12"
  }
 },
 "nbformat": 4,
 "nbformat_minor": 5
}
