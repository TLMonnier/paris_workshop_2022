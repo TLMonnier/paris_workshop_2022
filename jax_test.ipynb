{
 "cells": [
  {
   "cell_type": "code",
   "execution_count": null,
   "id": "8f881a27",
   "metadata": {},
   "outputs": [],
   "source": [
    "import jax\n",
    "import jax.numpy as jnp"
   ]
  },
  {
   "cell_type": "code",
   "execution_count": null,
   "id": "9e560770",
   "metadata": {},
   "outputs": [],
   "source": [
    "def tanh(x):  # Define a function\n",
    "    y = jnp.exp(-2.0 * x)\n",
    "    return (1.0 - y) / (1.0 + y)"
   ]
  },
  {
   "cell_type": "code",
   "execution_count": null,
   "id": "6d0bf62d",
   "metadata": {},
   "outputs": [],
   "source": [
    "grad_tanh = jax.grad(tanh)  # Obtain its gradient function\n",
    "print(grad_tanh(1.0))       # Evaluate it at x = 1.0, prints 0.4199743"
   ]
  },
  {
   "cell_type": "code",
   "execution_count": null,
   "id": "e8573c58",
   "metadata": {},
   "outputs": [],
   "source": [
    "def fwd_solver(f, z_init):\n",
    "    z_prev, z = z_init, f(z_init)\n",
    "    while jnp.linalg.norm(z_prev - z) > 1e-5:\n",
    "        z_prev, z = z, f(z)\n",
    "    return z"
   ]
  },
  {
   "cell_type": "code",
   "execution_count": null,
   "id": "6829ca05",
   "metadata": {},
   "outputs": [],
   "source": [
    "def newton_solver(f, z_init):\n",
    "    f_root = lambda z: f(z) - z\n",
    "    g = lambda z: z - jnp.linalg.solve(jax.jacobian(f_root)(z), f_root(z))\n",
    "    return fwd_solver(g, z_init)"
   ]
  },
  {
   "cell_type": "code",
   "execution_count": null,
   "id": "05329122",
   "metadata": {},
   "outputs": [],
   "source": [
    "def fixed_point_layer(solver, f, params, x):\n",
    "    z_star = solver(lambda z: f(params, x, z), z_init=jnp.zeros_like(x))\n",
    "    return z_star"
   ]
  },
  {
   "cell_type": "code",
   "execution_count": null,
   "id": "f80af0db",
   "metadata": {},
   "outputs": [],
   "source": [
    "f = lambda W, x, z: jnp.tanh(jnp.dot(W, z) + x)"
   ]
  },
  {
   "cell_type": "code",
   "execution_count": null,
   "id": "a7e87a3f",
   "metadata": {},
   "outputs": [],
   "source": [
    "ndim = 1000\n",
    "W = random.normal(random.PRNGKey(0), (ndim, ndim)) / jnp.sqrt(ndim)\n",
    "x = random.normal(random.PRNGKey(1), (ndim,))"
   ]
  },
  {
   "cell_type": "code",
   "execution_count": null,
   "id": "6dd7b747",
   "metadata": {},
   "outputs": [],
   "source": [
    "z_star = fixed_point_layer(fwd_solver, f, W, x)"
   ]
  },
  {
   "cell_type": "code",
   "execution_count": null,
   "id": "83f1ce45",
   "metadata": {},
   "outputs": [],
   "source": [
    "z_star = fixed_point_layer(newton_solver, f, W, x)"
   ]
  },
  {
   "cell_type": "code",
   "execution_count": null,
   "id": "5bc17d9a",
   "metadata": {},
   "outputs": [],
   "source": []
  },
  {
   "cell_type": "code",
   "execution_count": null,
   "id": "793ded70",
   "metadata": {},
   "outputs": [],
   "source": []
  }
 ],
 "metadata": {
  "kernelspec": {
   "display_name": "Python 3 (ipykernel)",
   "language": "python",
   "name": "python3"
  }
 },
 "nbformat": 4,
 "nbformat_minor": 5
}
