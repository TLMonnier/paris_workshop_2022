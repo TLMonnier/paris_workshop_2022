{
 "cells": [
  {
   "cell_type": "markdown",
   "id": "ba1aed82",
   "metadata": {},
   "source": [
    "# Optimal Savings (Numba version)"
   ]
  },
  {
   "cell_type": "markdown",
   "id": "c70cc887",
   "metadata": {
    "lines_to_next_cell": 2
   },
   "source": [
    "We consider an optimal savings problem with CRRA utility, with budget constraint\n",
    "\n",
    "$$ W_{t+1} + C_t \\leq R W_t + Y_t $$\n",
    "\n",
    "We assume that income $(Y_t)$ is a discretized AR(1) process.\n",
    "\n",
    "The right-hand side of the Bellman equation is \n",
    "\n",
    "$$   B(w, y, w′) = u(Rw + y - w′) + β Σ_y′ v(w′, y′) Q(y, y′). $$\n",
    "\n",
    "where\n",
    "\n",
    "$$   u(c) = \\frac{c^{1-\\gamma}}{1-\\gamma} $$"
   ]
  },
  {
   "cell_type": "code",
   "execution_count": 1,
   "id": "21de343a",
   "metadata": {},
   "outputs": [],
   "source": [
    "from collections import namedtuple\n",
    "import numpy as np\n",
    "import quantecon as qe\n",
    "from numba import njit, prange, int32\n",
    "import matplotlib.pyplot as plt"
   ]
  },
  {
   "cell_type": "code",
   "execution_count": 2,
   "id": "558c9815",
   "metadata": {},
   "outputs": [],
   "source": [
    "def successive_approx(T,                     # Operator (callable)\n",
    "                      x_0,                   # Initial condition\n",
    "                      tolerance=1e-6,        # Error tolerance\n",
    "                      max_iter=10_000,       # Max iteration bound\n",
    "                      print_step=25,         # Print at multiples\n",
    "                      verbose=False):        \n",
    "    x = x_0\n",
    "    error = tolerance + 1\n",
    "    k = 1\n",
    "    while error > tolerance and k <= max_iter:\n",
    "        x_new = T(x)\n",
    "        error = np.max(np.abs(x_new - x))\n",
    "        if verbose and k % print_step == 0:\n",
    "            print(f\"Completed iteration {k} with error {error}.\")\n",
    "        x = x_new\n",
    "        k += 1\n",
    "    if error > tolerance:\n",
    "        print(f\"Warning: Iteration hit upper bound {max_iter}.\")\n",
    "    elif verbose:\n",
    "        print(f\"Terminated successfully in {k} iterations.\")\n",
    "    return x"
   ]
  },
  {
   "cell_type": "markdown",
   "id": "68e63913",
   "metadata": {},
   "source": [
    "## Model primitives"
   ]
  },
  {
   "cell_type": "code",
   "execution_count": 3,
   "id": "43415c40",
   "metadata": {
    "lines_to_next_cell": 1
   },
   "outputs": [],
   "source": [
    "# A namedtuple definition for storing parameters and grids\n",
    "Model = namedtuple('Model', \n",
    "                    ('β', 'R', 'γ', 'w_grid', 'y_grid', 'Q'))"
   ]
  },
  {
   "cell_type": "code",
   "execution_count": 4,
   "id": "9f3cba21",
   "metadata": {},
   "outputs": [],
   "source": [
    "def create_consumption_model(R=1.01,                    # Gross interest rate\n",
    "                             β=0.98,                    # Discount factor\n",
    "                             γ=2.5,                     # CRRA parameter\n",
    "                             w_min=0.01,                # Min wealth\n",
    "                             w_max=5.0,                 # Max wealth\n",
    "                             w_size=150,                # Grid side\n",
    "                             ρ=0.9, ν=0.1, y_size=100): # Income parameters\n",
    "    \"\"\"\n",
    "    A function that takes in parameters and returns an instance of Model that\n",
    "    contains data for the optimal savings problem.\n",
    "    \"\"\"\n",
    "    w_grid = np.linspace(w_min, w_max, w_size)  \n",
    "    mc = qe.tauchen(ρ, ν, n=y_size)\n",
    "    y_grid, Q = np.exp(mc.state_values), mc.P\n",
    "    return Model(β=β, R=R, γ=γ, w_grid=w_grid, y_grid=y_grid, Q=Q)"
   ]
  },
  {
   "cell_type": "markdown",
   "id": "db3f6fb4",
   "metadata": {},
   "source": [
    "## Operators"
   ]
  },
  {
   "cell_type": "code",
   "execution_count": 5,
   "id": "deeb75c5",
   "metadata": {},
   "outputs": [],
   "source": [
    "@njit\n",
    "def B(i, j, ip, v, model):\n",
    "    \"\"\"\n",
    "    The right-hand side of the Bellman equation with candidate value v and\n",
    "    arguments y[i], z[j], yp[ip].\n",
    "\n",
    "    \"\"\"\n",
    "    β, R, γ, w_grid, y_grid, Q = model\n",
    "    w, y, wp = w_grid[i], y_grid[j], w_grid[ip]\n",
    "    c = R * w + y - wp\n",
    "    if c > 0:\n",
    "        return c**(1 - γ) / (1 - γ) + β * np.dot(v[ip, :], Q[j, :]) \n",
    "    return - np.inf"
   ]
  },
  {
   "cell_type": "code",
   "execution_count": 6,
   "id": "2aae2113",
   "metadata": {},
   "outputs": [],
   "source": [
    "@njit(parallel=True)\n",
    "def T_σ(v, σ, model):\n",
    "    \"The policy operator.\"\n",
    "    w_size, y_size = len(model.w_grid), len(model.y_grid)\n",
    "    v_new = np.empty_like(v)\n",
    "    for i in prange(w_size):\n",
    "        for j in range(y_size):\n",
    "            v_new[i, j] = B(i, j, σ[i, j], v, model)\n",
    "    return v_new"
   ]
  },
  {
   "cell_type": "code",
   "execution_count": 7,
   "id": "147a24bd",
   "metadata": {},
   "outputs": [],
   "source": [
    "@njit(parallel=True)\n",
    "def T(v, model):\n",
    "    \"The Bellman operator.\"\n",
    "    β, R, γ, w_grid, y_grid, Q = model\n",
    "    w_size, y_size = len(w_grid), len(y_grid)\n",
    "    v_new = np.empty_like(v)\n",
    "    for i in prange(w_size):\n",
    "        for j in range(y_size):\n",
    "            max_val = -np.inf\n",
    "            for ip in range(w_size):\n",
    "                val = B(i, j, ip, v, model)\n",
    "                if val > max_val:\n",
    "                    max_val = val\n",
    "            v_new[i, j] = max_val\n",
    "    return v_new"
   ]
  },
  {
   "cell_type": "code",
   "execution_count": 8,
   "id": "77736007",
   "metadata": {},
   "outputs": [],
   "source": [
    "@njit(parallel=True)\n",
    "def get_greedy(v, model):\n",
    "    \"Compute a v-greedy policy.\"\n",
    "    β, R, γ, w_grid, y_grid, Q = model\n",
    "    w_size, y_size = len(w_grid), len(y_grid)\n",
    "    σ = np.empty_like(v, dtype=int32)\n",
    "    for i in prange(w_size):\n",
    "        for j in range(y_size):\n",
    "            max_val = -np.inf\n",
    "            for ip in range(w_size):\n",
    "                val = B(i, j, ip, v, model)\n",
    "                if val > max_val:\n",
    "                    max_val = val\n",
    "                    argmax_index = ip\n",
    "            σ[i, j] = argmax_index\n",
    "    return σ"
   ]
  },
  {
   "cell_type": "code",
   "execution_count": 9,
   "id": "56279b2a",
   "metadata": {
    "lines_to_next_cell": 1
   },
   "outputs": [],
   "source": [
    "@njit(parallel=True)\n",
    "def get_value(σ, model):\n",
    "    \"Get the value v_σ of policy σ.\"\n",
    "    # Unpack and set up\n",
    "    β, R, γ, w_grid, y_grid, Q = model\n",
    "    w_size, y_size = len(w_grid), len(y_grid)\n",
    "    n = w_size * y_size\n",
    "    # Function to extract (i, j) from m = i + (j-1)*w_size\"\n",
    "    def single_to_multi(m):\n",
    "        i = m // y_size\n",
    "        j = m - y_size * i\n",
    "        return i, j\n",
    "    # Allocate and create single index versions of P_σ and r_σ\n",
    "    P_σ = np.zeros((n, n))\n",
    "    r_σ = np.zeros(n)\n",
    "    for m in prange(n):\n",
    "        i, j = single_to_multi(m)\n",
    "        w, y, wp = w_grid[i], y_grid[j], w_grid[σ[i, j]]\n",
    "        c = R * w + y - wp\n",
    "        r_σ[m] = c**(1 - γ) / (1 - γ) \n",
    "        for mp in range(n):\n",
    "            ip, jp = single_to_multi(mp)\n",
    "            if ip == σ[i, j]:\n",
    "                P_σ[m, mp] = Q[j, jp]\n",
    "    # Solve for the value of σ \n",
    "    v_σ = np.linalg.solve(np.identity(n) - β * P_σ, r_σ)\n",
    "    # Return as multi-index array\n",
    "    return np.reshape(v_σ, (w_size, y_size))"
   ]
  },
  {
   "cell_type": "markdown",
   "id": "603fa0cd",
   "metadata": {},
   "source": [
    "## Solvers"
   ]
  },
  {
   "cell_type": "code",
   "execution_count": 10,
   "id": "65f8c181",
   "metadata": {
    "lines_to_next_cell": 1
   },
   "outputs": [],
   "source": [
    "def value_iteration(model, tol=1e-5):\n",
    "    \"Implements VFI.\"\n",
    "    vz = np.zeros((len(model.w_grid), len(model.y_grid)))\n",
    "    v_star = successive_approx(lambda v: T(v, model), vz, tolerance=tol)\n",
    "    return get_greedy(v_star, model)"
   ]
  },
  {
   "cell_type": "code",
   "execution_count": 11,
   "id": "4e2769a1",
   "metadata": {
    "lines_to_next_cell": 1
   },
   "outputs": [],
   "source": [
    "def policy_iteration(model):\n",
    "    \"Howard policy iteration routine.\"\n",
    "    w_size, y_size = len(model.w_grid), len(model.y_grid)\n",
    "    σ = np.zeros((w_size, y_size), dtype=int)\n",
    "    i, error = 0, 1.0\n",
    "    while error > 0:\n",
    "        v_σ = get_value(σ, model)\n",
    "        σ_new = get_greedy(v_σ, model)\n",
    "        error = np.max(np.abs(σ_new - σ))\n",
    "        σ = σ_new\n",
    "        i = i + 1\n",
    "        print(f\"Concluded loop {i} with error {error}.\")\n",
    "    return σ"
   ]
  },
  {
   "cell_type": "code",
   "execution_count": 12,
   "id": "b684f37c",
   "metadata": {},
   "outputs": [],
   "source": [
    "def optimistic_policy_iteration(model, tol=1e-5, m=100):\n",
    "    \"Implements the OPI routine.\"\n",
    "    v = np.zeros((len(model.w_grid), len(model.y_grid)))\n",
    "    error = tol + 1\n",
    "    while error > tol:\n",
    "        last_v = v\n",
    "        σ = get_greedy(v, model)\n",
    "        for _ in range(m):\n",
    "            v = T_σ(v, σ, model)\n",
    "        error = np.max(np.abs(v - last_v))\n",
    "    return get_greedy(v, model)"
   ]
  },
  {
   "cell_type": "markdown",
   "id": "7047a18d",
   "metadata": {},
   "source": [
    "## Tests"
   ]
  },
  {
   "cell_type": "code",
   "execution_count": 13,
   "id": "c8e8170b",
   "metadata": {},
   "outputs": [],
   "source": [
    "model = create_consumption_model()"
   ]
  },
  {
   "cell_type": "code",
   "execution_count": 14,
   "id": "d4dd0faf",
   "metadata": {},
   "outputs": [
    {
     "name": "stdout",
     "output_type": "stream",
     "text": [
      "Starting HPI.\n",
      "Concluded loop 1 with error 77.\n",
      "Concluded loop 2 with error 55.\n",
      "Concluded loop 3 with error 28.\n",
      "Concluded loop 4 with error 17.\n",
      "Concluded loop 5 with error 7.\n",
      "Concluded loop 6 with error 3.\n",
      "Concluded loop 7 with error 1.\n",
      "Concluded loop 8 with error 1.\n",
      "Concluded loop 9 with error 0.\n",
      "TOC: Elapsed: 0:02:46.96\n",
      "[[  0   0   0 ...  20  21  22]\n",
      " [  0   0   0 ...  21  22  23]\n",
      " [  0   0   0 ...  22  23  24]\n",
      " ...\n",
      " [133 133 133 ... 149 149 149]\n",
      " [134 134 134 ... 149 149 149]\n",
      " [135 135 135 ... 149 149 149]]\n",
      "HPI completed in 166.9668378829956 seconds.\n"
     ]
    }
   ],
   "source": [
    "print(\"Starting HPI.\")\n",
    "qe.tic()\n",
    "out = policy_iteration(model)\n",
    "elapsed = qe.toc()\n",
    "print(out)\n",
    "print(f\"HPI completed in {elapsed} seconds.\")"
   ]
  },
  {
   "cell_type": "code",
   "execution_count": 15,
   "id": "50db9532",
   "metadata": {},
   "outputs": [
    {
     "name": "stdout",
     "output_type": "stream",
     "text": [
      "Starting VFI.\n",
      "TOC: Elapsed: 0:00:19.38\n",
      "[[  0   0   0 ...  20  21  22]\n",
      " [  0   0   0 ...  21  22  23]\n",
      " [  0   0   0 ...  22  23  24]\n",
      " ...\n",
      " [133 133 133 ... 149 149 149]\n",
      " [134 134 134 ... 149 149 149]\n",
      " [135 135 135 ... 149 149 149]]\n",
      "VFI completed in 19.385271787643433 seconds.\n"
     ]
    }
   ],
   "source": [
    "print(\"Starting VFI.\")\n",
    "qe.tic()\n",
    "out = value_iteration(model)\n",
    "elapsed = qe.toc()\n",
    "print(out)\n",
    "print(f\"VFI completed in {elapsed} seconds.\")"
   ]
  },
  {
   "cell_type": "code",
   "execution_count": 16,
   "id": "e64f71ae",
   "metadata": {},
   "outputs": [
    {
     "name": "stdout",
     "output_type": "stream",
     "text": [
      "Starting OPI.\n",
      "TOC: Elapsed: 0:00:5.41\n",
      "[[  0   0   0 ...  20  21  22]\n",
      " [  0   0   0 ...  21  22  23]\n",
      " [  0   0   0 ...  22  23  24]\n",
      " ...\n",
      " [133 133 133 ... 149 149 149]\n",
      " [134 134 134 ... 149 149 149]\n",
      " [135 135 135 ... 149 149 149]]\n",
      "OPI completed in 5.41820502281189 seconds.\n"
     ]
    }
   ],
   "source": [
    "print(\"Starting OPI.\")\n",
    "qe.tic()\n",
    "out = optimistic_policy_iteration(model, m=5)\n",
    "elapsed = qe.toc()\n",
    "print(out)\n",
    "print(f\"OPI completed in {elapsed} seconds.\")"
   ]
  },
  {
   "cell_type": "markdown",
   "id": "2531a584",
   "metadata": {},
   "source": [
    "## Plots"
   ]
  },
  {
   "cell_type": "code",
   "execution_count": 17,
   "id": "bd46da66",
   "metadata": {
    "lines_to_next_cell": 2
   },
   "outputs": [
    {
     "data": {
      "image/png": "[encoded data removed]",
      "text/plain": [
       "<Figure size 648x374.4 with 1 Axes>"
      ]
     },
     "metadata": {
      "needs_background": "light"
     },
     "output_type": "display_data"
    }
   ],
   "source": [
    "fontsize=12\n",
    "model = create_consumption_model()\n",
    "β, R, γ, w_grid, y_grid, Q = model\n",
    "σ_star = optimistic_policy_iteration(model)\n",
    "fig, ax = plt.subplots(figsize=(9, 5.2))\n",
    "ax.plot(w_grid, w_grid, \"k--\", label=\"45\")\n",
    "ax.plot(w_grid, w_grid[σ_star[:, 1]], label=\"$\\\\sigma^*(\\cdot, y_1)$\")\n",
    "ax.plot(w_grid, w_grid[σ_star[:, -1]], label=\"$\\\\sigma^*(\\cdot, y_N)$\")\n",
    "ax.legend(fontsize=fontsize)\n",
    "plt.show()"
   ]
  },
  {
   "cell_type": "code",
   "execution_count": 18,
   "id": "2573c8d5",
   "metadata": {},
   "outputs": [
    {
     "name": "stdout",
     "output_type": "stream",
     "text": [
      "Running Howard policy iteration.\n",
      "Concluded loop 1 with error 77.\n",
      "Concluded loop 2 with error 55.\n",
      "Concluded loop 3 with error 28.\n",
      "Concluded loop 4 with error 17.\n",
      "Concluded loop 5 with error 7.\n",
      "Concluded loop 6 with error 3.\n",
      "Concluded loop 7 with error 1.\n",
      "Concluded loop 8 with error 1.\n",
      "Concluded loop 9 with error 0.\n",
      "TOC: Elapsed: 0:02:49.14\n",
      "PI completed in 169.141850233078 seconds.\n",
      "Running value function iteration.\n",
      "TOC: Elapsed: 0:00:18.66\n",
      "VFI completed in 18.662906408309937 seconds.\n",
      "Running optimistic policy iteration with m=5.\n",
      "TOC: Elapsed: 0:00:4.55\n",
      "OPI with m=5 completed in 4.556206703186035 seconds.\n",
      "Running optimistic policy iteration with m=105.\n",
      "TOC: Elapsed: 0:00:0.78\n",
      "OPI with m=105 completed in 0.7834696769714355 seconds.\n",
      "Running optimistic policy iteration with m=205.\n",
      "TOC: Elapsed: 0:00:1.04\n",
      "OPI with m=205 completed in 1.042391300201416 seconds.\n",
      "Running optimistic policy iteration with m=305.\n",
      "TOC: Elapsed: 0:00:1.36\n",
      "OPI with m=305 completed in 1.3633811473846436 seconds.\n",
      "Running optimistic policy iteration with m=405.\n",
      "TOC: Elapsed: 0:00:1.69\n",
      "OPI with m=405 completed in 1.696232557296753 seconds.\n",
      "Running optimistic policy iteration with m=505.\n",
      "TOC: Elapsed: 0:00:2.01\n",
      "OPI with m=505 completed in 2.0137388706207275 seconds.\n",
      "Running optimistic policy iteration with m=605.\n",
      "TOC: Elapsed: 0:00:2.34\n",
      "OPI with m=605 completed in 2.348392963409424 seconds.\n",
      "Running optimistic policy iteration with m=705.\n",
      "TOC: Elapsed: 0:00:2.67\n",
      "OPI with m=705 completed in 2.672760248184204 seconds.\n",
      "Running optimistic policy iteration with m=805.\n",
      "TOC: Elapsed: 0:00:2.98\n",
      "OPI with m=805 completed in 2.9891741275787354 seconds.\n",
      "Running optimistic policy iteration with m=905.\n",
      "TOC: Elapsed: 0:00:3.31\n",
      "OPI with m=905 completed in 3.3155980110168457 seconds.\n",
      "Running optimistic policy iteration with m=1005.\n",
      "TOC: Elapsed: 0:00:3.63\n",
      "OPI with m=1005 completed in 3.639465808868408 seconds.\n",
      "Running optimistic policy iteration with m=1105.\n",
      "TOC: Elapsed: 0:00:4.04\n",
      "OPI with m=1105 completed in 4.043050527572632 seconds.\n",
      "Running optimistic policy iteration with m=1205.\n",
      "TOC: Elapsed: 0:00:4.06\n",
      "OPI with m=1205 completed in 4.063823699951172 seconds.\n",
      "Running optimistic policy iteration with m=1305.\n",
      "TOC: Elapsed: 0:00:4.42\n",
      "OPI with m=1305 completed in 4.420292854309082 seconds.\n",
      "Running optimistic policy iteration with m=1405.\n",
      "TOC: Elapsed: 0:00:4.38\n",
      "OPI with m=1405 completed in 4.386095762252808 seconds.\n",
      "Running optimistic policy iteration with m=1505.\n",
      "TOC: Elapsed: 0:00:4.95\n",
      "OPI with m=1505 completed in 4.954523086547852 seconds.\n",
      "Running optimistic policy iteration with m=1605.\n",
      "TOC: Elapsed: 0:00:4.95\n",
      "OPI with m=1605 completed in 4.958070993423462 seconds.\n",
      "Running optimistic policy iteration with m=1705.\n",
      "TOC: Elapsed: 0:00:5.62\n",
      "OPI with m=1705 completed in 5.628417730331421 seconds.\n",
      "Running optimistic policy iteration with m=1805.\n",
      "TOC: Elapsed: 0:00:5.53\n",
      "OPI with m=1805 completed in 5.537179231643677 seconds.\n",
      "Running optimistic policy iteration with m=1905.\n",
      "TOC: Elapsed: 0:00:5.87\n",
      "OPI with m=1905 completed in 5.871412992477417 seconds.\n",
      "Running optimistic policy iteration with m=2005.\n",
      "TOC: Elapsed: 0:00:6.84\n",
      "OPI with m=2005 completed in 6.846333265304565 seconds.\n",
      "Running optimistic policy iteration with m=2105.\n",
      "TOC: Elapsed: 0:00:7.26\n",
      "OPI with m=2105 completed in 7.26721715927124 seconds.\n",
      "Running optimistic policy iteration with m=2205.\n",
      "TOC: Elapsed: 0:00:7.58\n",
      "OPI with m=2205 completed in 7.58664608001709 seconds.\n",
      "Running optimistic policy iteration with m=2305.\n",
      "TOC: Elapsed: 0:00:8.46\n",
      "OPI with m=2305 completed in 8.46440839767456 seconds.\n",
      "Running optimistic policy iteration with m=2405.\n",
      "TOC: Elapsed: 0:00:8.68\n",
      "OPI with m=2405 completed in 8.682917833328247 seconds.\n",
      "Running optimistic policy iteration with m=2505.\n",
      "TOC: Elapsed: 0:00:8.54\n",
      "OPI with m=2505 completed in 8.54023814201355 seconds.\n",
      "Running optimistic policy iteration with m=2605.\n",
      "TOC: Elapsed: 0:00:8.84\n",
      "OPI with m=2605 completed in 8.842395544052124 seconds.\n",
      "Running optimistic policy iteration with m=2705.\n",
      "TOC: Elapsed: 0:00:9.18\n",
      "OPI with m=2705 completed in 9.181404829025269 seconds.\n",
      "Running optimistic policy iteration with m=2805.\n",
      "TOC: Elapsed: 0:00:9.51\n",
      "OPI with m=2805 completed in 9.512893676757812 seconds.\n",
      "Running optimistic policy iteration with m=2905.\n",
      "TOC: Elapsed: 0:00:9.82\n",
      "OPI with m=2905 completed in 9.826132774353027 seconds.\n"
     ]
    },
    {
     "data": {
      "image/png": "[encoded data removed]",
      "text/plain": [
       "<Figure size 648x374.4 with 1 Axes>"
      ]
     },
     "metadata": {
      "needs_background": "light"
     },
     "output_type": "display_data"
    }
   ],
   "source": [
    "m_vals = range(5, 3000, 100)\n",
    "model = create_consumption_model()\n",
    "print(\"Running Howard policy iteration.\")\n",
    "qe.tic()\n",
    "σ_pi = policy_iteration(model)\n",
    "pi_time = qe.toc()\n",
    "print(f\"PI completed in {pi_time} seconds.\")\n",
    "print(\"Running value function iteration.\")\n",
    "qe.tic()\n",
    "σ_vfi = value_iteration(model, tol=1e-5)\n",
    "vfi_time = qe.toc()\n",
    "print(f\"VFI completed in {vfi_time} seconds.\")\n",
    "assert np.all(σ_vfi == σ_pi), \"Warning: VFI policy deviated from true policy.\"\n",
    "opi_times = []\n",
    "for m in m_vals:\n",
    "    print(f\"Running optimistic policy iteration with m={m}.\")\n",
    "    qe.tic()\n",
    "    σ_opi = optimistic_policy_iteration(model, m=m, tol=1e-5)\n",
    "    opi_time = qe.toc()\n",
    "    print(f\"OPI with m={m} completed in {opi_time} seconds.\")\n",
    "    assert np.all(σ_opi == σ_pi), \"Warning: OPI policy deviated.\"\n",
    "    opi_times.append(opi_time)\n",
    "fig, ax = plt.subplots(figsize=(9, 5.2))\n",
    "ax.plot(m_vals, np.full(len(m_vals), pi_time), \n",
    "        lw=2, label=\"Howard policy iteration\")\n",
    "ax.plot(m_vals, np.full(len(m_vals), vfi_time), \n",
    "        lw=2, label=\"value function iteration\")\n",
    "ax.plot(m_vals, opi_times, lw=2, label=\"optimistic policy iteration\")\n",
    "ax.legend(fontsize=fontsize, frameon=False)\n",
    "ax.set_xlabel(\"$m$\", fontsize=fontsize)\n",
    "ax.set_ylabel(\"time\", fontsize=fontsize)\n",
    "plt.show()"
   ]
  },
  {
   "cell_type": "code",
   "execution_count": null,
   "id": "e8a087f5",
   "metadata": {},
   "outputs": [],
   "source": []
  },
  {
   "cell_type": "code",
   "execution_count": null,
   "id": "b4aa8a6f",
   "metadata": {},
   "outputs": [],
   "source": []
  }
 ],
 "metadata": {
  "jupytext": {
   "cell_metadata_filter": "-all",
   "main_language": "python",
   "notebook_metadata_filter": "-all"
  },
  "kernelspec": {
   "display_name": "Python 3 (ipykernel)",
   "language": "python",
   "name": "python3"
  },
  "language_info": {
   "codemirror_mode": {
    "name": "ipython",
    "version": 3
   },
   "file_extension": ".py",
   "mimetype": "text/x-python",
   "name": "python",
   "nbconvert_exporter": "python",
   "pygments_lexer": "ipython3",
   "version": "3.9.12"
  }
 },
 "nbformat": 4,
 "nbformat_minor": 5
}
