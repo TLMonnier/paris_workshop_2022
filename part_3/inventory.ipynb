{
 "cells": [
  {
   "cell_type": "markdown",
   "id": "37bc3e43",
   "metadata": {},
   "source": [
    "# Solving the Inventory Model"
   ]
  },
  {
   "cell_type": "code",
   "execution_count": 174,
   "id": "7f4bbf4a",
   "metadata": {},
   "outputs": [],
   "source": [
    "import numpy as np\n",
    "import matplotlib.pyplot as plt\n",
    "from scipy.stats import geom\n",
    "from collections import namedtuple\n",
    "from numba import njit, int32"
   ]
  },
  {
   "cell_type": "markdown",
   "id": "b52ae600",
   "metadata": {},
   "source": [
    "We will use the `successive_approx` function, as defined below."
   ]
  },
  {
   "cell_type": "code",
   "execution_count": 198,
   "id": "a17c22f9",
   "metadata": {},
   "outputs": [],
   "source": [
    "# %load ../solvers.py\n",
    "import numpy as np\n",
    "def successive_approx(T,                     # Operator (callable)\n",
    "                      x_0,                   # Initial condition\n",
    "                      tolerance=1e-6,        # Error tolerance\n",
    "                      max_iter=10_000,       # Max iteration bound\n",
    "                      print_step=25,         # Print at multiples\n",
    "                      verbose=False):        \n",
    "    x = x_0\n",
    "    error = tolerance + 1\n",
    "    k = 1\n",
    "    while error > tolerance and k <= max_iter:\n",
    "        x_new = T(x)\n",
    "        error = np.max(np.abs(x_new - x))\n",
    "        if verbose and k % print_step == 0:\n",
    "            print(f\"Completed iteration {k} with error {error}.\")\n",
    "        x = x_new\n",
    "        k += 1\n",
    "    if error > tolerance:\n",
    "        print(f\"Warning: Iteration hit upper bound {max_iter}.\")\n",
    "    elif verbose:\n",
    "        print(f\"Terminated successfully in {k} iterations.\")\n",
    "    return x"
   ]
  },
  {
   "cell_type": "markdown",
   "id": "e46f7404",
   "metadata": {},
   "source": [
    "We define the pmf of the geometric distribution:"
   ]
  },
  {
   "cell_type": "code",
   "execution_count": 176,
   "id": "27be155c",
   "metadata": {},
   "outputs": [],
   "source": [
    "@njit\n",
    "def ϕ(d, p):\n",
    "    \"Geometric distribution.\"\n",
    "    return (1 - p)**d * p          "
   ]
  },
  {
   "cell_type": "markdown",
   "id": "a469839e",
   "metadata": {},
   "source": [
    "To store our model parameters we use a namedtuple.  Here we define the namedtuple and a function to create instances, with default values"
   ]
  },
  {
   "cell_type": "code",
   "execution_count": 199,
   "id": "64c6332e",
   "metadata": {
    "lines_to_next_cell": 1
   },
   "outputs": [],
   "source": [
    "Model = namedtuple('Model', ('β', 'K', 'c', 'κ', 'p'))"
   ]
  },
  {
   "cell_type": "code",
   "execution_count": 200,
   "id": "5694ae70",
   "metadata": {
    "lines_to_next_cell": 1
   },
   "outputs": [],
   "source": [
    "def create_inventory_model(β=0.98,     # discount factor\n",
    "                           K=40,       # maximum inventory\n",
    "                           c=0.2, κ=2, # cost paramters\n",
    "                           p=0.6):     # demand parameter\n",
    "\n",
    "    return Model(β=β, K=K, c=c, κ=κ, p=p)"
   ]
  },
  {
   "cell_type": "markdown",
   "id": "11f927d8",
   "metadata": {},
   "source": [
    "The next function is the unmaximized right-hand side of the Bellman equation."
   ]
  },
  {
   "cell_type": "code",
   "execution_count": 179,
   "id": "f802fe8e",
   "metadata": {
    "lines_to_next_cell": 1
   },
   "outputs": [],
   "source": [
    "@njit\n",
    "def B(x, a, v, model, d_max=100):\n",
    "    \"The function B(x, a, v)\"\n",
    "    β, K, c, κ, p = model\n",
    "    profit = sum([min(x, d)*ϕ(d, p) for d in range(d_max)]) - c * a - κ * (a > 0)\n",
    "    continuation_value = sum([v[max(x - d, 0) + a]*ϕ(d, p) for d in range(d_max)])\n",
    "    return profit + β * continuation_value"
   ]
  },
  {
   "cell_type": "markdown",
   "id": "20c9f4d7",
   "metadata": {},
   "source": [
    "Now we introduce the Bellman operator."
   ]
  },
  {
   "cell_type": "code",
   "execution_count": 180,
   "id": "d643c7d1",
   "metadata": {
    "lines_to_next_cell": 1
   },
   "outputs": [],
   "source": [
    "@njit\n",
    "def T(v, model):\n",
    "    \"The Bellman operator.\"\n",
    "    β, K, c, κ, p = model\n",
    "    new_v = np.empty_like(v)\n",
    "    for x in range(K + 1):\n",
    "        Γx = range(K - x + 1) \n",
    "        max_val = - np.inf\n",
    "        for a in Γx:\n",
    "            val = B(x, a, v, model)\n",
    "            if val > max_val:\n",
    "                max_val = val\n",
    "        new_v[x] = max_val\n",
    "    return new_v"
   ]
  },
  {
   "cell_type": "markdown",
   "id": "62aef64b",
   "metadata": {},
   "source": [
    "We need a function that computes $v$-greedy policies from any given $v$."
   ]
  },
  {
   "cell_type": "code",
   "execution_count": 202,
   "id": "1087ffc9",
   "metadata": {
    "lines_to_next_cell": 1
   },
   "outputs": [],
   "source": [
    "@njit\n",
    "def get_greedy(v, model):\n",
    "    β, K, c, κ, p  = model\n",
    "    σ_star = np.empty_like(v, dtype=int32)\n",
    "    for x in range(K + 1):\n",
    "        Γx = range(K - x + 1) \n",
    "        max_val = - np.inf\n",
    "        arg_max = 0\n",
    "        for a in Γx:\n",
    "            val = B(x, a, v, model)\n",
    "            if val > max_val:\n",
    "                max_val = val\n",
    "                arg_max = a\n",
    "        σ_star[x] = arg_max\n",
    "    return σ_star"
   ]
  },
  {
   "cell_type": "markdown",
   "id": "10f557d2",
   "metadata": {},
   "source": [
    "The function below applies value function iteration to solve the model."
   ]
  },
  {
   "cell_type": "code",
   "execution_count": 207,
   "id": "876a3cc5",
   "metadata": {},
   "outputs": [],
   "source": [
    "\n",
    "def vfi(v_init, model):\n",
    "    β, K, c, κ, p = model\n",
    "    v_star = successive_approx(lambda v: T(v, model), v_init)\n",
    "    σ_star = get_greedy(v_star, model)\n",
    "    return v_star, σ_star"
   ]
  },
  {
   "cell_type": "markdown",
   "id": "d09a40ca",
   "metadata": {},
   "source": [
    "Let's put these functions to work:"
   ]
  },
  {
   "cell_type": "code",
   "execution_count": 208,
   "id": "783f2837",
   "metadata": {
    "lines_to_next_cell": 1
   },
   "outputs": [],
   "source": [
    "# Create an instance of the model and solve it\n",
    "model = create_inventory_model()"
   ]
  },
  {
   "cell_type": "code",
   "execution_count": 209,
   "id": "b96bc715",
   "metadata": {
    "lines_to_next_cell": 1
   },
   "outputs": [],
   "source": [
    "β, K, c, κ, p = model\n",
    "v_init = np.zeros(K + 1)"
   ]
  },
  {
   "cell_type": "code",
   "execution_count": 210,
   "id": "15523b3b",
   "metadata": {
    "lines_to_next_cell": 1
   },
   "outputs": [],
   "source": [
    "v_star, σ_star = vfi(v_init, model)"
   ]
  },
  {
   "cell_type": "markdown",
   "id": "e94c8546",
   "metadata": {},
   "source": [
    "First we will look at the policy and value functions."
   ]
  },
  {
   "cell_type": "code",
   "execution_count": 192,
   "id": "a3f9876a",
   "metadata": {
    "scrolled": false
   },
   "outputs": [
    {
     "data": {
      "image/png": "[encoded data removed]",
      "text/plain": [
       "<Figure size 576x468 with 2 Axes>"
      ]
     },
     "metadata": {
      "needs_background": "light"
     },
     "output_type": "display_data"
    }
   ],
   "source": [
    "fig, axes = plt.subplots(2, 1, figsize=(8, 6.5))\n",
    "fontsize=16\n",
    "\n",
    "ax = axes[0]\n",
    "ax.plot(range(K + 1), v_star, label=\"$v^*$\")\n",
    "ax.set_ylabel(\"value\", fontsize=fontsize)\n",
    "ax.legend(fontsize=fontsize, frameon=False)\n",
    "\n",
    "ax = axes[1]\n",
    "ax.plot(range(K + 1), σ_star, label=\"$\\\\sigma^*$\")\n",
    "ax.set_xlabel(\"inventory\", fontsize=fontsize)\n",
    "ax.set_ylabel(\"optimal choice\", fontsize=fontsize)\n",
    "ax.legend(fontsize=fontsize, frameon=False)\n",
    "plt.show()"
   ]
  },
  {
   "cell_type": "markdown",
   "id": "e7376755",
   "metadata": {},
   "source": [
    "Next let's simulate inventories under the optimal policy."
   ]
  },
  {
   "cell_type": "code",
   "execution_count": 211,
   "id": "12dea639",
   "metadata": {},
   "outputs": [],
   "source": [
    "def sim_inventories(ts_length=100, X_init=0):\n",
    "    \"Simulate given the optimal policy.\"\n",
    "    G = geom(p)\n",
    "    X = np.zeros(ts_length, dtype=int)\n",
    "    X[1] = X_init\n",
    "    for t in range(ts_length-1):\n",
    "        D = G.rvs()\n",
    "        X[t+1] = max(X[t] - D, 0) + σ_star[X[t]]\n",
    "    return X"
   ]
  },
  {
   "cell_type": "code",
   "execution_count": 212,
   "id": "7c907879",
   "metadata": {
    "lines_to_next_cell": 2
   },
   "outputs": [
    {
     "data": {
      "image/png": "[encoded data removed]",
      "text/plain": [
       "<Figure size 648x396 with 1 Axes>"
      ]
     },
     "metadata": {
      "needs_background": "light"
     },
     "output_type": "display_data"
    }
   ],
   "source": [
    "X = sim_inventories()\n",
    "fig, ax = plt.subplots(figsize=(9, 5.5))\n",
    "ax.plot(X, label=\"$X_t$\", alpha=0.7)\n",
    "ax.set_xlabel(\"$t$\", fontsize=fontsize)\n",
    "ax.set_ylabel(\"inventory\", fontsize=fontsize)\n",
    "ax.legend(fontsize=fontsize, frameon=False)\n",
    "ax.set_ylim(0, np.max(X)+4)\n",
    "plt.show()"
   ]
  },
  {
   "cell_type": "code",
   "execution_count": 172,
   "id": "c168da59",
   "metadata": {},
   "outputs": [
    {
     "data": {
      "text/plain": [
       "array([18, 19, 19, 20, 20, 20, 21, 21, 21, 22, 22, 22, 23, 23, 23, 24, 24,\n",
       "       24, 24, 25, 25, 25, 25, 26, 26, 26, 26, 26, 27, 27, 27, 27, 27, 27,\n",
       "       28, 28, 28, 28, 28, 28, 28], dtype=int32)"
      ]
     },
     "execution_count": 172,
     "metadata": {},
     "output_type": "execute_result"
    }
   ],
   "source": [
    "σ_star"
   ]
  },
  {
   "cell_type": "code",
   "execution_count": 173,
   "id": "711164b3",
   "metadata": {},
   "outputs": [
    {
     "data": {
      "text/plain": [
       "41"
      ]
     },
     "execution_count": 173,
     "metadata": {},
     "output_type": "execute_result"
    }
   ],
   "source": [
    "len(σ_star)"
   ]
  },
  {
   "cell_type": "code",
   "execution_count": null,
   "id": "6f052c2d",
   "metadata": {},
   "outputs": [],
   "source": []
  }
 ],
 "metadata": {
  "jupytext": {
   "cell_metadata_filter": "-all",
   "main_language": "python",
   "notebook_metadata_filter": "-all"
  },
  "kernelspec": {
   "display_name": "Python 3 (ipykernel)",
   "language": "python",
   "name": "python3"
  },
  "language_info": {
   "codemirror_mode": {
    "name": "ipython",
    "version": 3
   },
   "file_extension": ".py",
   "mimetype": "text/x-python",
   "name": "python",
   "nbconvert_exporter": "python",
   "pygments_lexer": "ipython3",
   "version": "3.9.12"
  }
 },
 "nbformat": 4,
 "nbformat_minor": 5
}
