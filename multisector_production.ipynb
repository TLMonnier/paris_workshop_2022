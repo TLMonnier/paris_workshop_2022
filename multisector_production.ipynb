{
 "cells": [
  {
   "cell_type": "markdown",
   "id": "f31635af",
   "metadata": {},
   "source": [
    "# Production Networks\n",
    "\n",
    "**[John Stachurski](https://johnstachurski.net)** September 2022"
   ]
  },
  {
   "cell_type": "markdown",
   "id": "6b5e93ad",
   "metadata": {},
   "source": [
    "The study of economic networks has become very popular recently:\n",
    "\n",
    "- production networks (Acemoglu, Azar, Carvalho, Nirei, Ozdaglah, Tahbaz-Salehi, etc.)\n",
    "- financial networks (Elliot, Golub, Jackson, Pernoud, etc.)\n",
    "- social networks (DeGroot, Easly, Zenou, etc.)\n",
    "\n",
    "For an overview and references see [Sargent and Stachurski (2022)](https://networks.quantecon.org/)."
   ]
  },
  {
   "cell_type": "markdown",
   "id": "876f509a",
   "metadata": {},
   "source": [
    "In this notebook we give a quick introduction to production networks and some Python tools that can be used to analyze them."
   ]
  },
  {
   "cell_type": "markdown",
   "id": "9173ae2a",
   "metadata": {},
   "source": [
    "Uncomment the lines if you don't have these libraries installed."
   ]
  },
  {
   "cell_type": "code",
   "execution_count": 73,
   "id": "7d3e2718",
   "metadata": {},
   "outputs": [],
   "source": [
    "#!pip install quantecon\n",
    "#!pip install quantecon_book_networks\n",
    "#!pip install pandas_datareader"
   ]
  },
  {
   "cell_type": "markdown",
   "id": "62159827",
   "metadata": {},
   "source": [
    "We use the following imports"
   ]
  },
  {
   "cell_type": "code",
   "execution_count": 74,
   "id": "d522190d",
   "metadata": {},
   "outputs": [],
   "source": [
    "import numpy as np                # Working with arrays\n",
    "import networkx as nx             # Working with graphs / networks\n",
    "import matplotlib.pyplot as plt   # Plotting library\n",
    "from matplotlib import cm         # Color maps\n",
    "import quantecon as qe            # QuantEcon library"
   ]
  },
  {
   "cell_type": "markdown",
   "id": "362c1f19",
   "metadata": {},
   "source": [
    "We will obtain input-output data from the library `quantecon_book_networks`, which was published to support the book [Sargent and Stachurski (2022)](https://networks.quantecon.org/)"
   ]
  },
  {
   "cell_type": "code",
   "execution_count": 75,
   "id": "ea249b88",
   "metadata": {},
   "outputs": [],
   "source": [
    "import quantecon_book_networks.input_output as qbn_io\n",
    "import quantecon_book_networks.data as qbn_data"
   ]
  },
  {
   "cell_type": "markdown",
   "id": "6275683a",
   "metadata": {},
   "source": [
    "## Input-Output Tables"
   ]
  },
  {
   "cell_type": "markdown",
   "id": "a82cd90d",
   "metadata": {},
   "source": [
    "Data for multisector production models can be found in input-output tables.\n",
    "\n",
    "Let's discuss how to read in and use this data."
   ]
  },
  {
   "cell_type": "markdown",
   "id": "e34fcea9",
   "metadata": {},
   "source": [
    "### Intermediate Goods and Coefficient Matrices"
   ]
  },
  {
   "cell_type": "markdown",
   "id": "ec3a2eba",
   "metadata": {},
   "source": [
    "Consider an economy with $n$ goods, produced by $n$ sectors."
   ]
  },
  {
   "cell_type": "markdown",
   "id": "7bee8ee0",
   "metadata": {},
   "source": [
    "We define\n",
    " \n",
    "* $x_i :=$ total sales of sector $i$.\n",
    "* $z_{ij} :=$ inter-industry sales from sector $i$ to sector $j$.\n",
    "\n"
   ]
  },
  {
   "cell_type": "markdown",
   "id": "2e403fde",
   "metadata": {},
   "source": [
    "One of the core concepts in multisector production models is the *input-output coefficient matrix*, defined as\n",
    "\n",
    "$$\n",
    "    A =\n",
    "    \\begin{pmatrix}\n",
    "          a_{11} & a_{12} & a_{13} \\\\\n",
    "          a_{21} & a_{22} & a_{23} \\\\\n",
    "          a_{31} & a_{32} & a_{33}\n",
    "    \\end{pmatrix}\n",
    "$$\n",
    "\n",
    "where\n",
    "\n",
    "\\begin{equation}\\label{eq:leona}\n",
    "    a_{ij} := \\frac{z_{ij}}{x_j}\n",
    "\\end{equation}\n",
    "\n",
    "In words,\n",
    "\n",
    "\\begin{equation*}\n",
    "    a_{ij} := \n",
    "    \\frac{\\text{value of inputs from sector $i$ purchased by sector $j$ }}\n",
    "        {\\text{total sales of sector $j$}}.\n",
    "\\end{equation*}\n",
    "\n",
    "Thus, \n",
    "\n",
    "* column $j$ of $A$ shows the relative importance of each sector when producing good $j$\n",
    "* row $i$ shows sales of good $i$ as an intermediate input"
   ]
  },
  {
   "cell_type": "markdown",
   "id": "941c4898",
   "metadata": {},
   "source": [
    "### Reading in the Data"
   ]
  },
  {
   "cell_type": "markdown",
   "id": "a74003b7",
   "metadata": {},
   "source": [
    "Most countries publish input-output data.\n",
    "\n",
    "We are going to read in data on Australia."
   ]
  },
  {
   "cell_type": "code",
   "execution_count": 76,
   "id": "19cae6ea",
   "metadata": {},
   "outputs": [],
   "source": [
    "io_data_dict = qbn_data.production()"
   ]
  },
  {
   "cell_type": "markdown",
   "id": "73018982",
   "metadata": {},
   "source": [
    "What sort of object have we created?"
   ]
  },
  {
   "cell_type": "code",
   "execution_count": 77,
   "id": "2f709193",
   "metadata": {},
   "outputs": [
    {
     "data": {
      "text/plain": [
       "dict"
      ]
     },
     "execution_count": 77,
     "metadata": {},
     "output_type": "execute_result"
    }
   ],
   "source": [
    "type(io_data_dict)"
   ]
  },
  {
   "cell_type": "code",
   "execution_count": 78,
   "id": "d5571c11",
   "metadata": {},
   "outputs": [
    {
     "name": "stdout",
     "output_type": "stream",
     "text": [
      "dict_keys(['us_sectors_15', 'us_sectors_71', 'au_sectors_114', 'gdp_df'])\n"
     ]
    }
   ],
   "source": [
    "print(io_data_dict.keys())"
   ]
  },
  {
   "cell_type": "markdown",
   "id": "ac04f36e",
   "metadata": {},
   "source": [
    "Let's get the Australian data."
   ]
  },
  {
   "cell_type": "code",
   "execution_count": 79,
   "id": "6329429c",
   "metadata": {},
   "outputs": [],
   "source": [
    "io_data = io_data_dict['au_sectors_114']"
   ]
  },
  {
   "cell_type": "code",
   "execution_count": 80,
   "id": "4343a233",
   "metadata": {},
   "outputs": [
    {
     "name": "stdout",
     "output_type": "stream",
     "text": [
      "dict_keys(['adjacency_matrix', 'total_industry_sales', 'codes'])\n"
     ]
    }
   ],
   "source": [
    "print(io_data.keys())"
   ]
  },
  {
   "cell_type": "code",
   "execution_count": 81,
   "id": "acfc1e90",
   "metadata": {},
   "outputs": [],
   "source": [
    "codes = io_data[\"codes\"]"
   ]
  },
  {
   "cell_type": "markdown",
   "id": "015843e0",
   "metadata": {},
   "source": [
    "The key `adjacency matrix` gives us $Z$, while `total_industry_sales` gives us $x$."
   ]
  },
  {
   "cell_type": "code",
   "execution_count": 82,
   "id": "e29e2140",
   "metadata": {},
   "outputs": [],
   "source": [
    "Z = io_data[\"adjacency_matrix\"]\n",
    "x = io_data[\"total_industry_sales\"]"
   ]
  },
  {
   "cell_type": "markdown",
   "id": "16a1d55b",
   "metadata": {},
   "source": [
    "### Computing the Coefficient Matrix"
   ]
  },
  {
   "cell_type": "markdown",
   "id": "4780832b",
   "metadata": {},
   "source": [
    "The next step is to create the coefficient matrix $A$.  For this we design a function."
   ]
  },
  {
   "cell_type": "code",
   "execution_count": 83,
   "id": "3f6d4b0b",
   "metadata": {},
   "outputs": [],
   "source": [
    "def build_coefficient_matrix(Z, x):\n",
    "    \"\"\"\n",
    "    Build the coefficient matrix A with A[i, j] = Z[i, j] / x[j] \n",
    "    \n",
    "    \"\"\"\n",
    "    A = np.empty_like(Z)\n",
    "    n = len(x)\n",
    "    for i in range(n):\n",
    "        for j in range(n):\n",
    "            A[i, j] = Z[i, j] / x[j]\n",
    "    return A"
   ]
  },
  {
   "cell_type": "markdown",
   "id": "b2456f0e",
   "metadata": {},
   "source": [
    "Now we can build $A$."
   ]
  },
  {
   "cell_type": "code",
   "execution_count": 84,
   "id": "c54e1ddf",
   "metadata": {},
   "outputs": [],
   "source": [
    "A = build_coefficient_matrix(Z, x)"
   ]
  },
  {
   "cell_type": "markdown",
   "id": "38cf9ad7",
   "metadata": {},
   "source": [
    "Let's have a quick look:"
   ]
  },
  {
   "cell_type": "code",
   "execution_count": 85,
   "id": "43e78a81",
   "metadata": {},
   "outputs": [
    {
     "name": "stdout",
     "output_type": "stream",
     "text": [
      "[[0.000001 0.000003 0.       ... 0.       0.       0.000001]\n",
      " [0.       0.000002 0.       ... 0.       0.       0.      ]\n",
      " [0.000001 0.000005 0.000001 ... 0.       0.000001 0.      ]\n",
      " ...\n",
      " [0.       0.       0.       ... 0.       0.000001 0.      ]\n",
      " [0.       0.       0.       ... 0.       0.000001 0.      ]\n",
      " [0.       0.       0.       ... 0.       0.       0.      ]]\n"
     ]
    }
   ],
   "source": [
    "np.set_printoptions(suppress=True)\n",
    "print(np.array_str(A, precision=6))"
   ]
  },
  {
   "cell_type": "markdown",
   "id": "3cbe75f3",
   "metadata": {},
   "source": [
    "### Efficiency"
   ]
  },
  {
   "cell_type": "markdown",
   "id": "8dbb9d17",
   "metadata": {},
   "source": [
    "We are using small networks here so efficiency is not important.\n",
    "\n",
    "But it will be for large networks so let's consider it.\n",
    "\n",
    "To boost efficiency we can use broadcasting and vectorized operations rather than loops.\n",
    "\n",
    "To do this, we reshape `x[j]` to `x[i, j]` and then set `A = Z / x`.\n",
    "\n",
    "The general principle is\n",
    "\n",
    "1. add missing indices\n",
    "2. carry out vectorized arithmetic"
   ]
  },
  {
   "cell_type": "code",
   "execution_count": 86,
   "id": "b8bb6126",
   "metadata": {},
   "outputs": [],
   "source": [
    "def build_coefficient_matrix_vectorized(Z, x):\n",
    "    n = len(x)\n",
    "    x = np.reshape(x, (1, n))   # Reshape x[j] to x[i, j] \n",
    "    A = Z / x\n",
    "    return(A)"
   ]
  },
  {
   "cell_type": "markdown",
   "id": "9840eb5c",
   "metadata": {},
   "source": [
    "Let's make sure that they produce the same output:"
   ]
  },
  {
   "cell_type": "code",
   "execution_count": 87,
   "id": "8329c26d",
   "metadata": {},
   "outputs": [
    {
     "data": {
      "text/plain": [
       "True"
      ]
     },
     "execution_count": 87,
     "metadata": {},
     "output_type": "execute_result"
    }
   ],
   "source": [
    "np.all(build_coefficient_matrix_vectorized(Z, x) == A)"
   ]
  },
  {
   "cell_type": "markdown",
   "id": "3b24e44f",
   "metadata": {},
   "source": [
    "The vectorized operation is faster:"
   ]
  },
  {
   "cell_type": "code",
   "execution_count": 88,
   "id": "579d3e0e",
   "metadata": {
    "scrolled": false
   },
   "outputs": [
    {
     "name": "stdout",
     "output_type": "stream",
     "text": [
      "2.25 ms ± 31.9 µs per loop (mean ± std. dev. of 7 runs, 100 loops each)\n"
     ]
    }
   ],
   "source": [
    "%timeit build_coefficient_matrix(Z, x)   # run many times and take the average"
   ]
  },
  {
   "cell_type": "code",
   "execution_count": 89,
   "id": "b3dd700d",
   "metadata": {},
   "outputs": [
    {
     "name": "stdout",
     "output_type": "stream",
     "text": [
      "9.56 µs ± 37.1 ns per loop (mean ± std. dev. of 7 runs, 100,000 loops each)\n"
     ]
    }
   ],
   "source": [
    "%timeit build_coefficient_matrix_vectorized(Z, x)"
   ]
  },
  {
   "cell_type": "markdown",
   "id": "4bbec75f",
   "metadata": {},
   "source": [
    "Alternatively, we can use Numba to make the loops more efficient."
   ]
  },
  {
   "cell_type": "code",
   "execution_count": 90,
   "id": "186dc252",
   "metadata": {},
   "outputs": [],
   "source": [
    "from numba import njit\n",
    "build_coefficient_matrix_jitted = njit(build_coefficient_matrix)"
   ]
  },
  {
   "cell_type": "code",
   "execution_count": 91,
   "id": "37317caa",
   "metadata": {},
   "outputs": [
    {
     "name": "stdout",
     "output_type": "stream",
     "text": [
      "12.5 µs ± 79.3 ns per loop (mean ± std. dev. of 7 runs, 100,000 loops each)\n"
     ]
    }
   ],
   "source": [
    "%timeit build_coefficient_matrix_jitted(Z, x)"
   ]
  },
  {
   "cell_type": "markdown",
   "id": "55120508",
   "metadata": {},
   "source": [
    "### Visualization\n",
    "\n",
    "We can visualize and try to understand the data by plotting it as a directed graph."
   ]
  },
  {
   "cell_type": "markdown",
   "id": "1e54010b",
   "metadata": {},
   "source": [
    "To do this we use [NetworkX](https://networkx.org/), which as been imported as `nx`."
   ]
  },
  {
   "cell_type": "code",
   "execution_count": 92,
   "id": "37c5046a",
   "metadata": {},
   "outputs": [],
   "source": [
    "def plot_graph(A):\n",
    "    G = nx.DiGraph()\n",
    "    n = len(A)\n",
    "\n",
    "    # Add nodes, with weights by sales of the sector\n",
    "    for i, w in enumerate(x):\n",
    "        G.add_node(codes[i], weight=w, name=codes[i])\n",
    "\n",
    "    node_size_multiple = 0.005\n",
    "    node_sizes = x * node_size_multiple\n",
    "    node_pos_dict = nx.spring_layout(G, seed=1234)\n",
    "    centrality = qbn_io.eigenvector_centrality(A)\n",
    "    node_color_list = qbn_io.colorise_weights(centrality, beta=False) \n",
    "\n",
    "    # Add the edges, along with their colors and widths\n",
    "    edge_colors = []\n",
    "    edge_widths = []\n",
    "    edge_size_multiple = 10000\n",
    "    for i in range(n):\n",
    "        for j in range(n):\n",
    "            a = A[i, j]\n",
    "            G.add_edge(codes[i], codes[j])\n",
    "            edge_colors.append(node_color_list[i])\n",
    "            width = a * edge_size_multiple\n",
    "            edge_widths.append(width)\n",
    "\n",
    "    # Get rid of self-loops\n",
    "    G.remove_edges_from(nx.selfloop_edges(G))         \n",
    "\n",
    "    fig, ax = plt.subplots(figsize=(10, 14))\n",
    "    plt.axis(\"off\")\n",
    "\n",
    "    # Plot the networks\n",
    "    nx.draw_networkx_nodes(G, \n",
    "                           node_pos_dict, \n",
    "                           node_color=node_color_list, \n",
    "                           node_size=node_sizes, \n",
    "                           edgecolors='grey', \n",
    "                           linewidths=2, \n",
    "                           alpha=0.6, \n",
    "                           ax=ax)\n",
    "\n",
    "    nx.draw_networkx_labels(G, \n",
    "                            node_pos_dict, \n",
    "                            font_size=10, \n",
    "                            ax=ax)\n",
    "\n",
    "    nx.draw_networkx_edges(G, \n",
    "                           node_pos_dict, \n",
    "                           edge_color=edge_colors, \n",
    "                           width=edge_widths, \n",
    "                           arrows=True, \n",
    "                           arrowsize=20, \n",
    "                           alpha=0.6,  \n",
    "                           ax=ax, \n",
    "                           arrowstyle='->', \n",
    "                           node_size=node_sizes, \n",
    "                           connectionstyle='arc3,rad=0.15')\n",
    "\n",
    "    plt.show()\n"
   ]
  },
  {
   "cell_type": "markdown",
   "id": "2aa7a943",
   "metadata": {},
   "source": [
    "Here are the codes:\n",
    "\n",
    "| code | sector |\n",
    "|------|--------|\n",
    "| ag | Agriculture, forestry, fishing, and hunting |\n",
    "| mi |  Mining |\n",
    "| ut | Utilities | \n",
    "| co | Construction |\n",
    "| ma | Manufacturing |\n",
    "| wh | Wholesale trade | \n",
    "| re | Retail trade |\n",
    "| tr | Transportation and warehousing |\n",
    "| in | Information |\n",
    "| fi | Finance, insurance, real estate, rental, and leasing |\n",
    "| pr | Professional and business services |\n",
    "| ed | Educational services, health care, and social assistance |\n",
    "| ar | Arts, entertainment, accommodation, and food services |\n",
    "| ot | Other services, except government |\n",
    "| go | Government |\n"
   ]
  },
  {
   "cell_type": "markdown",
   "id": "fa6b6f94",
   "metadata": {},
   "source": [
    "## Centrality"
   ]
  },
  {
   "cell_type": "markdown",
   "id": "22911e2d",
   "metadata": {},
   "source": []
  },
  {
   "cell_type": "markdown",
   "id": "e6dc91f4",
   "metadata": {},
   "source": [
    "## Equilibrium"
   ]
  },
  {
   "cell_type": "markdown",
   "id": "7f6bf24f",
   "metadata": {},
   "source": [
    "\n",
    "We are interested in computing equilibrium output in each sector given final demand.\n",
    "\n",
    "This is the [input-output problem](https://en.wikipedia.org/wiki/Input%E2%80%93output_model) originally studied by Leontief.\n",
    "\n",
    "Let\n",
    " \n",
    "* $d_i :=$ final consumer demand for good $i$.\n",
    "\n",
    "Recall that\n",
    "\n",
    "* $x_i :=$ total sales of sector $i$.\n",
    "* $z_{ij} :=$ inter-industry sales from sector $i$ to sector $j$.\n",
    "* $a_{ij} := z_{ij} / x_i$\n",
    "\n",
    "\n",
    "This is a kind of fixed point problem.\n"
   ]
  },
  {
   "cell_type": "code",
   "execution_count": 93,
   "id": "e9531d5f",
   "metadata": {},
   "outputs": [
    {
     "data": {
      "text/html": [
       "\n",
       "        <iframe\n",
       "            width=\"500\"\n",
       "            height=\"500\"\n",
       "            src=\"tikz/io_reducible.pdf\"\n",
       "            frameborder=\"0\"\n",
       "            allowfullscreen\n",
       "            \n",
       "        ></iframe>\n",
       "        "
      ],
      "text/plain": [
       "<IPython.lib.display.IFrame at 0x7fba4d86dc70>"
      ]
     },
     "execution_count": 93,
     "metadata": {},
     "output_type": "execute_result"
    }
   ],
   "source": [
    "from IPython.display import IFrame\n",
    "IFrame(\"tikz/io_reducible.pdf\", width=500, height=500)"
   ]
  },
  {
   "cell_type": "markdown",
   "id": "7604bbb0",
   "metadata": {},
   "source": [
    "\n",
    "To begin, note that, for each sector $i$ we have the accounting identity\n",
    "\n",
    "\\begin{equation}\\label{eq:sales}\n",
    "    x_i = \\sum_{j=1}^n z_{ij} + d_i,\n",
    "\\end{equation}\n",
    "\n",
    "In words,\n",
    "\n",
    "$$ \\text{total sales $=$ sales to other industries\n",
    "    $+$ sales to final consumers}\n",
    "$$"
   ]
  },
  {
   "cell_type": "markdown",
   "id": "a09310ff",
   "metadata": {},
   "source": [
    "We rewrite as \n",
    "\n",
    "\\begin{equation}\\label{eq:iorcon}\n",
    "    x_i = \\sum_{j=1}^n a_{ij} x_j + d_i,\n",
    "    \\qquad i = 1, \\ldots n.\n",
    "\\end{equation}\n",
    "\n",
    "\n",
    "We can combine the $n$ equations into the linear system\n",
    "\n",
    "\\begin{equation}\\label{eq:nnlinsys}\n",
    "    x = A x + d.\n",
    "\\end{equation}\n",
    "\n",
    "Given $A$ (from the IO tables) and final demand $d$, our task is to solve for $x$."
   ]
  },
  {
   "cell_type": "markdown",
   "id": "ce563e85",
   "metadata": {},
   "source": [
    "**Proposition.**  If $\\max_j \\sum_i a_{ij} < 1$, then $L := I - A$ is invertible and $x^* := L^{-1} d$ is the unique equilibrium.\n",
    "\n",
    "*Proof:*  Since $A \\geq 0$, the Perron-Frobenius theorem tells us that $r(A)$, the spectral radius of $A$, obeys $m_1 \\leq r(A) \\leq m_2$, where \n",
    "\n",
    "* $m_1$ is the min of the column sums of $A$ and\n",
    "* $m_2$ is the max of the column sums of $A$.\n",
    "\n",
    "Hence $0 \\leq r(A) \\leq m_2 = \\max_j \\sum_i a_{ij} < 1$.   The proposition now follows."
   ]
  },
  {
   "cell_type": "markdown",
   "id": "9dd0f499",
   "metadata": {},
   "source": [
    "#### Exercise\n",
    "\n",
    "Write a function that takes a square matrix $A$ and returns the minimum and maximum of the column sums.\n",
    "\n",
    "If possible write two versions, one that uses loops and another that uses vectorized operations."
   ]
  },
  {
   "cell_type": "code",
   "execution_count": 94,
   "id": "e70a90d1",
   "metadata": {},
   "outputs": [
    {
     "name": "stdout",
     "output_type": "stream",
     "text": [
      "solution below.\n",
      "solution below.\n",
      "solution below.\n",
      "solution below.\n",
      "solution below.\n",
      "solution below.\n",
      "solution below.\n",
      "solution below.\n",
      "solution below.\n",
      "solution below.\n"
     ]
    }
   ],
   "source": [
    "for _ in range(10):\n",
    "    print(\"solution below.\")"
   ]
  },
  {
   "cell_type": "markdown",
   "id": "bf15fa7d",
   "metadata": {},
   "source": [
    "Here's a version with loops:"
   ]
  },
  {
   "cell_type": "code",
   "execution_count": 95,
   "id": "bc598e5c",
   "metadata": {},
   "outputs": [],
   "source": [
    "def col_sum_min_max(A):\n",
    "    n = len(A)\n",
    "    m1, m2 = np.inf, -np.inf\n",
    "    for j in range(n):\n",
    "        col_sum = 0.0\n",
    "        for i in range(n):\n",
    "            col_sum += A[i, j]\n",
    "        if col_sum < m1:\n",
    "            m1 = col_sum\n",
    "        if col_sum > m2:\n",
    "            m2 = col_sum\n",
    "    return m1, m2"
   ]
  },
  {
   "cell_type": "markdown",
   "id": "55a13366",
   "metadata": {},
   "source": [
    "And here's a vectorized version:"
   ]
  },
  {
   "cell_type": "code",
   "execution_count": 106,
   "id": "19702030",
   "metadata": {},
   "outputs": [],
   "source": [
    "def col_sum_min_max_vectorized(A):\n",
    "    col_sums = np.sum(A, axis=0)\n",
    "    return col_sums.min(), col_sums.max()"
   ]
  },
  {
   "cell_type": "markdown",
   "id": "9316a629",
   "metadata": {},
   "source": [
    "Let's check they give the same number for our data:"
   ]
  },
  {
   "cell_type": "code",
   "execution_count": 109,
   "id": "72719d8c",
   "metadata": {},
   "outputs": [
    {
     "data": {
      "text/plain": [
       "(1.1994754182339358e-06, 0.0019154876989634822)"
      ]
     },
     "execution_count": 109,
     "metadata": {},
     "output_type": "execute_result"
    }
   ],
   "source": [
    "col_sum_min_max(A)"
   ]
  },
  {
   "cell_type": "code",
   "execution_count": 110,
   "id": "fa33943c",
   "metadata": {},
   "outputs": [
    {
     "data": {
      "text/plain": [
       "(1.1994754182339358e-06, 0.0019154876989634822)"
      ]
     },
     "execution_count": 110,
     "metadata": {},
     "output_type": "execute_result"
    }
   ],
   "source": [
    "col_sum_min_max_vectorized(A)"
   ]
  },
  {
   "cell_type": "code",
   "execution_count": null,
   "id": "ee081fff",
   "metadata": {},
   "outputs": [],
   "source": []
  }
 ],
 "metadata": {
  "kernelspec": {
   "display_name": "Python 3 (ipykernel)",
   "language": "python",
   "name": "python3"
  },
  "language_info": {
   "codemirror_mode": {
    "name": "ipython",
    "version": 3
   },
   "file_extension": ".py",
   "mimetype": "text/x-python",
   "name": "python",
   "nbconvert_exporter": "python",
   "pygments_lexer": "ipython3",
   "version": "3.9.12"
  }
 },
 "nbformat": 4,
 "nbformat_minor": 5
}
