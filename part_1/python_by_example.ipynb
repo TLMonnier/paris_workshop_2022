{
 "cells": [
  {
   "cell_type": "markdown",
   "id": "a7d586da",
   "metadata": {},
   "source": [
    "\n",
    "<a id='python-by-example'></a>\n",
    "<div id=\"qe-notebook-header\" align=\"right\" style=\"text-align:right;\">\n",
    "        <a href=\"https://quantecon.org/\" title=\"quantecon.org\">\n",
    "                <img style=\"width:250px;display:inline;\" width=\"250px\" src=\"https://assets.quantecon.org/img/qe-menubar-logo.svg\" alt=\"QuantEcon\">\n",
    "        </a>\n",
    "</div>"
   ]
  },
  {
   "cell_type": "markdown",
   "id": "ad2a7cf2",
   "metadata": {},
   "source": [
    "# An Introductory Example\n",
    "\n",
    "\n",
    "<a id='index-0'></a>"
   ]
  },
  {
   "cell_type": "markdown",
   "id": "26c1f756",
   "metadata": {},
   "source": [
    "## The Task: Plotting a White Noise Process\n",
    "\n",
    "Suppose we want to simulate and plot the white noise\n",
    "process $ \\epsilon_0, \\epsilon_1, \\ldots, \\epsilon_T $, where each draw $ \\epsilon_t $ is independent standard normal.\n",
    "\n",
    "In other words, we want to generate figures that look something like this:\n",
    "\n",
    "![https://python-programming.quantecon.org/_static/lecture_specific/python_by_example/test_program_1_updated.png](https://python-programming.quantecon.org/_static/lecture_specific/python_by_example/test_program_1_updated.png)\n",
    "\n",
    "  \n",
    "(Here $ t $ is on the horizontal axis and $ \\epsilon_t $ is on the\n",
    "vertical axis.)\n",
    "\n",
    "We’ll do this in several different ways, each time learning something more\n",
    "about Python.\n",
    "\n",
    "We run the following command first, which helps ensure that plots appear in the\n",
    "notebook if you run it on your own machine."
   ]
  },
  {
   "cell_type": "markdown",
   "id": "1efd0c16",
   "metadata": {},
   "source": [
    "## Version 1\n",
    "\n",
    "\n",
    "<a id='ourfirstprog'></a>\n",
    "Here are a few lines of code that perform the task we set"
   ]
  },
  {
   "cell_type": "code",
   "execution_count": 32,
   "id": "d6a017f6",
   "metadata": {
    "hide-output": false
   },
   "outputs": [
    {
     "data": {
      "image/png": "[encoded data removed]",
      "text/plain": [
       "<Figure size 432x288 with 1 Axes>"
      ]
     },
     "metadata": {
      "needs_background": "light"
     },
     "output_type": "display_data"
    }
   ],
   "source": [
    "import numpy as np\n",
    "import matplotlib.pyplot as plt\n",
    "\n",
    "ϵ_values = np.random.randn(100)\n",
    "plt.plot(ϵ_values)\n",
    "plt.show()"
   ]
  },
  {
   "cell_type": "markdown",
   "id": "27982499",
   "metadata": {},
   "source": [
    "Let’s break this program down and see how it works.\n",
    "\n",
    "\n",
    "<a id='import'></a>"
   ]
  },
  {
   "cell_type": "markdown",
   "id": "194056b9",
   "metadata": {},
   "source": [
    "### Imports\n",
    "\n",
    "The first two lines of the program import functionality from external code\n",
    "libraries.\n",
    "\n",
    "The first line imports [NumPy](https://python-programming.quantecon.org/numpy.html), a favorite Python package for tasks like\n",
    "\n",
    "- working with arrays (vectors and matrices)  \n",
    "- common mathematical functions like `cos` and `sqrt`  \n",
    "- generating random numbers  \n",
    "- linear algebra, etc.  \n",
    "\n",
    "\n",
    "After `import numpy as np` we have access to these attributes via the syntax `np.attribute`.\n",
    "\n",
    "Here’s two more examples"
   ]
  },
  {
   "cell_type": "code",
   "execution_count": 33,
   "id": "3da3634e",
   "metadata": {
    "hide-output": false
   },
   "outputs": [
    {
     "data": {
      "text/plain": [
       "2.0"
      ]
     },
     "execution_count": 33,
     "metadata": {},
     "output_type": "execute_result"
    }
   ],
   "source": [
    "np.sqrt(4)"
   ]
  },
  {
   "cell_type": "code",
   "execution_count": 34,
   "id": "3cd4fb30",
   "metadata": {
    "hide-output": false
   },
   "outputs": [
    {
     "data": {
      "text/plain": [
       "1.3862943611198906"
      ]
     },
     "execution_count": 34,
     "metadata": {},
     "output_type": "execute_result"
    }
   ],
   "source": [
    "np.log(4)"
   ]
  },
  {
   "cell_type": "markdown",
   "id": "5546bae6",
   "metadata": {},
   "source": [
    "#### Why So Many Imports?\n",
    "\n",
    "Python programs typically require several import statements.\n",
    "\n",
    "The reason is that the core language is deliberately kept small, so that it’s easy to learn and maintain.\n",
    "\n",
    "When you want to do something interesting with Python, you almost always need\n",
    "to import additional functionality."
   ]
  },
  {
   "cell_type": "markdown",
   "id": "84db318e",
   "metadata": {},
   "source": [
    "### Importing Names Directly\n",
    "\n",
    "Recall this code that we saw above"
   ]
  },
  {
   "cell_type": "code",
   "execution_count": 35,
   "id": "1eb93d08",
   "metadata": {
    "hide-output": false
   },
   "outputs": [
    {
     "data": {
      "text/plain": [
       "2.0"
      ]
     },
     "execution_count": 35,
     "metadata": {},
     "output_type": "execute_result"
    }
   ],
   "source": [
    "import numpy as np\n",
    "\n",
    "np.sqrt(4)"
   ]
  },
  {
   "cell_type": "markdown",
   "id": "813a3f6e",
   "metadata": {},
   "source": [
    "Here’s another way to access NumPy’s square root function"
   ]
  },
  {
   "cell_type": "code",
   "execution_count": 36,
   "id": "3e04ec47",
   "metadata": {
    "hide-output": false
   },
   "outputs": [
    {
     "data": {
      "text/plain": [
       "2.0"
      ]
     },
     "execution_count": 36,
     "metadata": {},
     "output_type": "execute_result"
    }
   ],
   "source": [
    "from numpy import sqrt\n",
    "\n",
    "sqrt(4)"
   ]
  },
  {
   "cell_type": "markdown",
   "id": "ed6b2937",
   "metadata": {},
   "source": [
    "This is also fine.\n",
    "\n",
    "The advantage is less typing if we use `sqrt` often in our code.\n",
    "\n",
    "The disadvantage is that, in a long program, these two lines might be\n",
    "separated by many other lines.\n",
    "\n",
    "Then it’s harder for readers to know where `sqrt` came from, should they wish to."
   ]
  },
  {
   "cell_type": "markdown",
   "id": "f2ff358f",
   "metadata": {},
   "source": [
    "### Random Draws\n",
    "\n",
    "Returning to our program that plots white noise, the remaining three lines\n",
    "after the import statements are"
   ]
  },
  {
   "cell_type": "code",
   "execution_count": 37,
   "id": "e4264e6f",
   "metadata": {
    "hide-output": false
   },
   "outputs": [
    {
     "data": {
      "image/png": "[encoded data removed]",
      "text/plain": [
       "<Figure size 432x288 with 1 Axes>"
      ]
     },
     "metadata": {
      "needs_background": "light"
     },
     "output_type": "display_data"
    }
   ],
   "source": [
    "ϵ_values = np.random.randn(100)\n",
    "plt.plot(ϵ_values)\n",
    "plt.show()"
   ]
  },
  {
   "cell_type": "markdown",
   "id": "97510089",
   "metadata": {},
   "source": [
    "The first line generates 100 (quasi) independent standard normals and stores\n",
    "them in `ϵ_values`.\n",
    "\n",
    "The next two lines genererate the plot.\n",
    "\n",
    "We can and will look at various ways to configure and improve this plot below."
   ]
  },
  {
   "cell_type": "code",
   "execution_count": 38,
   "id": "a5b45d02",
   "metadata": {},
   "outputs": [
    {
     "data": {
      "text/plain": [
       "(100,)"
      ]
     },
     "execution_count": 38,
     "metadata": {},
     "output_type": "execute_result"
    }
   ],
   "source": [
    "ϵ_values.shape"
   ]
  },
  {
   "cell_type": "markdown",
   "id": "f8e60ead",
   "metadata": {},
   "source": [
    "## Alternative Implementations\n",
    "\n",
    "Let’s try writing some alternative versions of [our first program](#ourfirstprog), which plotted IID draws from the standard normal distribution.\n",
    "\n",
    "The programs below are less efficient than the original one, and hence\n",
    "somewhat artificial.\n",
    "\n",
    "But they do help us illustrate some important Python syntax and semantics in a familiar setting."
   ]
  },
  {
   "cell_type": "markdown",
   "id": "9861106d",
   "metadata": {},
   "source": [
    "### A Version with a For Loop\n",
    "\n",
    "Here’s a version that illustrates `for` loops and Python lists.\n",
    "\n",
    "\n",
    "<a id='firstloopprog'></a>"
   ]
  },
  {
   "cell_type": "code",
   "execution_count": 39,
   "id": "6836410e",
   "metadata": {
    "hide-output": false
   },
   "outputs": [
    {
     "data": {
      "image/png": "[encoded data removed]",
      "text/plain": [
       "<Figure size 432x288 with 1 Axes>"
      ]
     },
     "metadata": {
      "needs_background": "light"
     },
     "output_type": "display_data"
    }
   ],
   "source": [
    "ts_length = 100\n",
    "ϵ_values = []   # empty list\n",
    "\n",
    "for i in range(ts_length):\n",
    "    e = np.random.randn()\n",
    "    ϵ_values.append(e)\n",
    "\n",
    "plt.plot(ϵ_values)\n",
    "plt.show()"
   ]
  },
  {
   "cell_type": "markdown",
   "id": "077e876a",
   "metadata": {},
   "source": [
    "In brief,\n",
    "\n",
    "- The first line sets the desired length of the time series.  \n",
    "- The next line creates an empty *list* called `ϵ_values` that will store the $ \\epsilon_t $ values as we generate them.  \n",
    "- The statement `# empty list` is a *comment*, and is ignored by Python’s interpreter.  \n",
    "- The next three lines are the `for` loop, which repeatedly draws a new random number $ \\epsilon_t $ and appends it to the end of the list `ϵ_values`.  \n",
    "- The last two lines generate the plot and display it to the user.  \n",
    "\n",
    "\n",
    "Let’s study some parts of this program in more detail.\n",
    "\n",
    "\n",
    "<a id='lists-ref'></a>"
   ]
  },
  {
   "cell_type": "markdown",
   "id": "a52c2d14",
   "metadata": {},
   "source": [
    "### Lists\n",
    "\n",
    "\n",
    "<a id='index-3'></a>\n",
    "Consider the statement `ϵ_values = []`, which creates an empty list.\n",
    "\n",
    "Lists are a *native Python data structure* used to group a collection of objects.\n",
    "\n",
    "Items in lists are ordered, and duplicates are allowed in lists.\n",
    "\n",
    "For example, try"
   ]
  },
  {
   "cell_type": "code",
   "execution_count": 40,
   "id": "1491c1ce",
   "metadata": {
    "hide-output": false
   },
   "outputs": [
    {
     "data": {
      "text/plain": [
       "list"
      ]
     },
     "execution_count": 40,
     "metadata": {},
     "output_type": "execute_result"
    }
   ],
   "source": [
    "x = [10, 'foo', False]\n",
    "type(x)"
   ]
  },
  {
   "cell_type": "markdown",
   "id": "76e055fd",
   "metadata": {},
   "source": [
    "The first element of `x` is an [integer](https://en.wikipedia.org/wiki/Integer_%28computer_science%29), the next is a [string](https://en.wikipedia.org/wiki/String_%28computer_science%29), and the third is a [Boolean value](https://en.wikipedia.org/wiki/Boolean_data_type).\n",
    "\n",
    "When adding a value to a list, we can use the syntax `list_name.append(some_value)`"
   ]
  },
  {
   "cell_type": "code",
   "execution_count": 41,
   "id": "2a60e85b",
   "metadata": {
    "hide-output": false
   },
   "outputs": [
    {
     "data": {
      "text/plain": [
       "[10, 'foo', False]"
      ]
     },
     "execution_count": 41,
     "metadata": {},
     "output_type": "execute_result"
    }
   ],
   "source": [
    "x"
   ]
  },
  {
   "cell_type": "code",
   "execution_count": 42,
   "id": "89ee281c",
   "metadata": {
    "hide-output": false
   },
   "outputs": [
    {
     "data": {
      "text/plain": [
       "[10, 'foo', False, 2.5]"
      ]
     },
     "execution_count": 42,
     "metadata": {},
     "output_type": "execute_result"
    }
   ],
   "source": [
    "x.append(2.5)\n",
    "x"
   ]
  },
  {
   "cell_type": "markdown",
   "id": "50b6a19f",
   "metadata": {},
   "source": [
    "Here `append()` is what’s called a *method*, which is a function “attached to” an object—in this case, the list `x`.\n",
    "\n",
    "We’ll learn all about methods [later on](https://python-programming.quantecon.org/oop_intro.html), but just to give you some idea,\n",
    "\n",
    "- Python objects such as lists, strings, etc. all have methods that are used to manipulate the data contained in the object.  \n",
    "- String objects have [string methods](https://docs.python.org/3/library/stdtypes.html#string-methods), list objects have [list methods](https://docs.python.org/3/tutorial/datastructures.html#more-on-lists), etc.  \n",
    "\n",
    "\n",
    "Another useful list method is `pop()`"
   ]
  },
  {
   "cell_type": "code",
   "execution_count": 43,
   "id": "70e97f03",
   "metadata": {
    "hide-output": false
   },
   "outputs": [
    {
     "data": {
      "text/plain": [
       "[10, 'foo', False, 2.5]"
      ]
     },
     "execution_count": 43,
     "metadata": {},
     "output_type": "execute_result"
    }
   ],
   "source": [
    "x"
   ]
  },
  {
   "cell_type": "code",
   "execution_count": 44,
   "id": "00f0c9ed",
   "metadata": {
    "hide-output": false
   },
   "outputs": [
    {
     "data": {
      "text/plain": [
       "2.5"
      ]
     },
     "execution_count": 44,
     "metadata": {},
     "output_type": "execute_result"
    }
   ],
   "source": [
    "x.pop()"
   ]
  },
  {
   "cell_type": "code",
   "execution_count": 45,
   "id": "f510f772",
   "metadata": {
    "hide-output": false
   },
   "outputs": [
    {
     "data": {
      "text/plain": [
       "[10, 'foo', False]"
      ]
     },
     "execution_count": 45,
     "metadata": {},
     "output_type": "execute_result"
    }
   ],
   "source": [
    "x"
   ]
  },
  {
   "cell_type": "markdown",
   "id": "53b1f153",
   "metadata": {},
   "source": [
    "Lists in Python are zero-based (as in C, Java or Go), so the first element is referenced by `x[0]`"
   ]
  },
  {
   "cell_type": "code",
   "execution_count": 46,
   "id": "742dfed3",
   "metadata": {
    "hide-output": false
   },
   "outputs": [
    {
     "data": {
      "text/plain": [
       "10"
      ]
     },
     "execution_count": 46,
     "metadata": {},
     "output_type": "execute_result"
    }
   ],
   "source": [
    "x[0]   # first element of x"
   ]
  },
  {
   "cell_type": "code",
   "execution_count": 47,
   "id": "53197b3c",
   "metadata": {
    "hide-output": false
   },
   "outputs": [
    {
     "data": {
      "text/plain": [
       "'foo'"
      ]
     },
     "execution_count": 47,
     "metadata": {},
     "output_type": "execute_result"
    }
   ],
   "source": [
    "x[1]   # second element of x"
   ]
  },
  {
   "cell_type": "markdown",
   "id": "a8751ee5",
   "metadata": {},
   "source": [
    "### The For Loop\n",
    "\n",
    "\n",
    "<a id='index-4'></a>\n",
    "Now let’s consider the `for` loop from [the program above](#firstloopprog), which was"
   ]
  },
  {
   "cell_type": "code",
   "execution_count": 48,
   "id": "2bf0d0f6",
   "metadata": {
    "hide-output": false
   },
   "outputs": [],
   "source": [
    "for i in range(ts_length):\n",
    "    e = np.random.randn()\n",
    "    ϵ_values.append(e)"
   ]
  },
  {
   "cell_type": "markdown",
   "id": "ea807e51",
   "metadata": {},
   "source": [
    "Python executes the two indented lines `ts_length` times before moving on.\n",
    "\n",
    "These two lines are called a `code block`, since they comprise the “block” of code that we are looping over.\n",
    "\n",
    "Unlike most other languages, Python knows the extent of the code block *only from indentation*.\n",
    "\n",
    "In our program, indentation decreases after line `ϵ_values.append(e)`, telling Python that this line marks the lower limit of the code block.\n",
    "\n",
    "More on indentation below—for now, let’s look at another example of a `for` loop"
   ]
  },
  {
   "cell_type": "code",
   "execution_count": 49,
   "id": "51648eba",
   "metadata": {
    "hide-output": false
   },
   "outputs": [
    {
     "name": "stdout",
     "output_type": "stream",
     "text": [
      "The plural of dog is dogs\n",
      "The plural of cat is cats\n",
      "The plural of bird is birds\n"
     ]
    }
   ],
   "source": [
    "animals = ['dog', 'cat', 'bird']\n",
    "for animal in animals:\n",
    "    print(\"The plural of \" + animal + \" is \" + animal + \"s\")"
   ]
  },
  {
   "cell_type": "markdown",
   "id": "3c81ebfa",
   "metadata": {},
   "source": [
    "This example helps to clarify how the `for` loop works: When we execute a\n",
    "loop of the form"
   ]
  },
  {
   "cell_type": "markdown",
   "id": "d74db020",
   "metadata": {
    "hide-output": false
   },
   "source": [
    "```python3\n",
    "for variable_name in sequence:\n",
    "    <code block>\n",
    "```\n"
   ]
  },
  {
   "cell_type": "markdown",
   "id": "6a3b1ea9",
   "metadata": {},
   "source": [
    "The Python interpreter performs the following:\n",
    "\n",
    "- For each element of the `sequence`, it “binds” the name `variable_name` to that element and then executes the code block.  \n",
    "\n",
    "\n",
    "The `sequence` object can in fact be a very general object, as we’ll see\n",
    "soon enough."
   ]
  },
  {
   "cell_type": "markdown",
   "id": "79f2843f",
   "metadata": {},
   "source": [
    "### A Comment on Indentation\n",
    "\n",
    "\n",
    "<a id='index-5'></a>\n",
    "In discussing the `for` loop, we explained that the code blocks being looped over are delimited by indentation.\n",
    "\n",
    "In fact, in Python, **all** code blocks (i.e., those occurring inside loops, if clauses, function definitions, etc.) are delimited by indentation.\n",
    "\n",
    "Thus, unlike most other languages, whitespace in Python code affects the output of the program.\n",
    "\n",
    "Once you get used to it, this is a good thing: It\n",
    "\n",
    "- forces clean, consistent indentation, improving readability  \n",
    "- removes clutter, such as the brackets or end statements used in other languages  \n",
    "\n",
    "\n",
    "On the other hand, it takes a bit of care to get right, so please remember:\n",
    "\n",
    "- The line before the start of a code block always ends in a colon  \n",
    "  - `for i in range(10):`  \n",
    "  - `if x > y:`  \n",
    "  - `while x < 100:`  \n",
    "  - etc., etc.  \n",
    "- All lines in a code block **must have the same amount of indentation**.  \n",
    "- The Python standard is 4 spaces, and that’s what you should use.  "
   ]
  },
  {
   "cell_type": "markdown",
   "id": "0e9d7703",
   "metadata": {},
   "source": [
    "### While Loops\n",
    "\n",
    "\n",
    "<a id='index-6'></a>\n",
    "The `for` loop is the most common technique for iteration in Python.\n",
    "\n",
    "But, for the purpose of illustration, let’s modify [the program above](#firstloopprog) to use a `while` loop instead.\n",
    "\n",
    "\n",
    "<a id='whileloopprog'></a>"
   ]
  },
  {
   "cell_type": "code",
   "execution_count": 50,
   "id": "554bf1ff",
   "metadata": {
    "hide-output": false
   },
   "outputs": [
    {
     "data": {
      "image/png": "[encoded data removed]",
      "text/plain": [
       "<Figure size 432x288 with 1 Axes>"
      ]
     },
     "metadata": {
      "needs_background": "light"
     },
     "output_type": "display_data"
    }
   ],
   "source": [
    "ts_length = 100\n",
    "ϵ_values = []\n",
    "i = 0\n",
    "while i < ts_length:\n",
    "    e = np.random.randn()\n",
    "    ϵ_values.append(e)\n",
    "    i = i + 1\n",
    "plt.plot(ϵ_values)\n",
    "plt.show()"
   ]
  },
  {
   "cell_type": "markdown",
   "id": "6c43ede5",
   "metadata": {},
   "source": [
    "A while loop will keep executing the code block delimited by indentation until the condition (`i < ts_length`) is satisfied.\n",
    "\n",
    "In this case, the program will keep adding values to the list `ϵ_values` until `i` equals `ts_length`:"
   ]
  },
  {
   "cell_type": "code",
   "execution_count": 51,
   "id": "d2f660f1",
   "metadata": {
    "hide-output": false
   },
   "outputs": [
    {
     "data": {
      "text/plain": [
       "True"
      ]
     },
     "execution_count": 51,
     "metadata": {},
     "output_type": "execute_result"
    }
   ],
   "source": [
    "i == ts_length #the ending condition for the while loop"
   ]
  },
  {
   "cell_type": "markdown",
   "id": "82d193d8",
   "metadata": {},
   "source": [
    "Note that\n",
    "\n",
    "- the code block for the `while` loop is again delimited only by indentation.  \n",
    "- the statement  `i = i + 1` can be replaced by `i += 1`.  "
   ]
  },
  {
   "cell_type": "markdown",
   "id": "7a5ded9a",
   "metadata": {},
   "source": [
    "## Another Application\n",
    "\n",
    "Let’s do one more application before we turn to exercises.\n",
    "\n",
    "In this application, we plot the balance of a bank account over time.\n",
    "\n",
    "There are no withdraws over the time period, the last date of which is denoted\n",
    "by $ T $.\n",
    "\n",
    "The initial balance is $ b_0 $ and the interest rate is $ r $.\n",
    "\n",
    "The balance updates from period $ t $ to $ t+1 $ according to $ b_{t+1} = (1 + r) b_t $.\n",
    "\n",
    "In the code below, we generate and plot the sequence $ b_0, b_1, \\ldots, b_T $.\n",
    "\n",
    "Instead of using a Python list to store this sequence, we will use a NumPy\n",
    "array."
   ]
  },
  {
   "cell_type": "code",
   "execution_count": 52,
   "id": "25c61d6b",
   "metadata": {
    "hide-output": false
   },
   "outputs": [
    {
     "data": {
      "image/png": "[encoded data removed]",
      "text/plain": [
       "<Figure size 432x288 with 1 Axes>"
      ]
     },
     "metadata": {
      "needs_background": "light"
     },
     "output_type": "display_data"
    }
   ],
   "source": [
    "r = 0.025         # interest rate\n",
    "T = 50            # end date\n",
    "b = np.empty(T+1) # an empty NumPy array, to store all b_t\n",
    "b[0] = 10         # initial balance\n",
    "\n",
    "for t in range(T):\n",
    "    b[t+1] = (1 + r) * b[t]\n",
    "\n",
    "plt.plot(b, label='bank balance')\n",
    "plt.legend()\n",
    "plt.show()"
   ]
  },
  {
   "cell_type": "markdown",
   "id": "45fd07f9",
   "metadata": {},
   "source": [
    "The statement `b = np.empty(T+1)` allocates storage in memory for `T+1`\n",
    "(floating point) numbers.\n",
    "\n",
    "These numbers are filled in by the `for` loop.\n",
    "\n",
    "Allocating memory at the start is more efficient than using a Python list and\n",
    "`append`, since the latter must repeatedly ask for storage space from the\n",
    "operating system.\n",
    "\n",
    "Notice that we added a legend to the plot — a feature you will be asked to\n",
    "use in the exercises."
   ]
  },
  {
   "cell_type": "markdown",
   "id": "96319ae7",
   "metadata": {},
   "source": [
    "## Exercise\n",
    "\n",
    "Simulate and plot the correlated time series\n",
    "\n",
    "$$\n",
    "x_{t+1} = \\alpha \\, x_t + \\epsilon_{t+1}\n",
    "\\quad \\text{where} \\quad\n",
    "x_0 = 0\n",
    "\\quad \\text{and} \\quad t = 0,\\ldots,T\n",
    "$$\n",
    "\n",
    "The sequence of shocks $ \\{\\epsilon_t\\} $ is assumed to be IID and standard normal.\n",
    "\n",
    "In your solution, restrict your import statements to"
   ]
  },
  {
   "cell_type": "code",
   "execution_count": 53,
   "id": "55a3581c",
   "metadata": {
    "hide-output": false
   },
   "outputs": [],
   "source": [
    "import numpy as np\n",
    "import matplotlib.pyplot as plt"
   ]
  },
  {
   "cell_type": "markdown",
   "id": "1a4ee7a7",
   "metadata": {},
   "source": [
    "\n",
    "Set $ T=200 $ and $ \\alpha = 0.9 $."
   ]
  },
  {
   "cell_type": "code",
   "execution_count": 54,
   "id": "bac9a93c",
   "metadata": {},
   "outputs": [
    {
     "name": "stdout",
     "output_type": "stream",
     "text": [
      "solution below\n",
      "solution below\n",
      "solution below\n",
      "solution below\n",
      "solution below\n",
      "solution below\n",
      "solution below\n",
      "solution below\n",
      "solution below\n",
      "solution below\n"
     ]
    }
   ],
   "source": [
    "for _ in range(10):\n",
    "    print(\"solution below\")"
   ]
  },
  {
   "cell_type": "code",
   "execution_count": 55,
   "id": "b12e5bc4",
   "metadata": {
    "hide-output": false
   },
   "outputs": [
    {
     "data": {
      "image/png": "[encoded data removed]",
      "text/plain": [
       "<Figure size 432x288 with 1 Axes>"
      ]
     },
     "metadata": {
      "needs_background": "light"
     },
     "output_type": "display_data"
    }
   ],
   "source": [
    "α = 0.9\n",
    "T = 200\n",
    "x = np.empty(T+1)\n",
    "x[0] = 0\n",
    "\n",
    "for t in range(T):\n",
    "    x[t+1] = α * x[t] + np.random.randn()\n",
    "\n",
    "plt.plot(x)\n",
    "plt.show()"
   ]
  },
  {
   "cell_type": "markdown",
   "id": "880bbdc6",
   "metadata": {},
   "source": [
    "## Exercise 3.2\n",
    "\n",
    "Starting with your solution to exercise 1, plot three simulated time series,\n",
    "one for each of the cases $ \\alpha=0 $, $ \\alpha=0.8 $ and $ \\alpha=0.98 $.\n",
    "\n",
    "Use a `for` loop to step through the $ \\alpha $ values.\n",
    "\n",
    "If you can, add a legend, to help distinguish between the three time series.\n",
    "\n",
    "Hints:\n",
    "\n",
    "- If you call the `plot()` function multiple times before calling `show()`, all of the lines you produce will end up on the same figure.  \n",
    "- For the legend, noted that the expression `'foo' + str(42)` evaluates to `'foo42'`.  "
   ]
  }
 ],
 "metadata": {
  "date": 1662429779.7333262,
  "filename": "python_by_example.md",
  "kernelspec": {
   "display_name": "Python 3 (ipykernel)",
   "language": "python",
   "name": "python3"
  },
  "language_info": {
   "codemirror_mode": {
    "name": "ipython",
    "version": 3
   },
   "file_extension": ".py",
   "mimetype": "text/x-python",
   "name": "python",
   "nbconvert_exporter": "python",
   "pygments_lexer": "ipython3",
   "version": "3.9.12"
  },
  "title": "An Introductory Example"
 },
 "nbformat": 4,
 "nbformat_minor": 5
}
