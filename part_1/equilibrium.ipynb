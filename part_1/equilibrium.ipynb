{
 "cells": [
  {
   "cell_type": "markdown",
   "id": "93fe9d3f",
   "metadata": {},
   "source": [
    "# Equilibrium"
   ]
  },
  {
   "cell_type": "markdown",
   "id": "81dcfdc1",
   "metadata": {},
   "source": [
    "#### Written for the Paris Quantitative Economics Workshop (September 2022)\n",
    "#### Author: [John Stachurski](http://johnstachurski.net/)"
   ]
  },
  {
   "cell_type": "markdown",
   "id": "d1211a98",
   "metadata": {},
   "source": [
    "In this notebook we solve a very simple market equilibrium problem.\n",
    "\n",
    "Supply and demand are nonlinear and we use Newton's root-finding algorithm to solve for equilibrium prices."
   ]
  },
  {
   "cell_type": "code",
   "execution_count": 4,
   "id": "614e7aac",
   "metadata": {},
   "outputs": [],
   "source": [
    "import numpy as np\n",
    "import matplotlib.pyplot as plt"
   ]
  },
  {
   "cell_type": "markdown",
   "id": "8ee93fb9",
   "metadata": {},
   "source": [
    "## A Note on Root-Finding"
   ]
  },
  {
   "cell_type": "markdown",
   "id": "97b72d1c",
   "metadata": {},
   "source": [
    "If $f$ maps an interval $(a, b)$ into $\\mathbb R$, then a **root** of the function $f$ is an $x^* \\in (a,b)$ with $f(x^*)=0$.\n",
    "\n",
    "A common method for root finding is Newton's algorithm [TO BE COMPLETED]."
   ]
  },
  {
   "cell_type": "code",
   "execution_count": 1,
   "id": "6b765f37",
   "metadata": {},
   "outputs": [],
   "source": [
    "from scipy.optimize import newton"
   ]
  },
  {
   "cell_type": "markdown",
   "id": "2cb11697",
   "metadata": {},
   "source": [
    "## The Market"
   ]
  },
  {
   "cell_type": "markdown",
   "id": "47218f72",
   "metadata": {},
   "source": [
    "We consider a market for coffee beans.  The price per kilo is $p$.  Total supply at price $p$ is\n",
    "\n",
    "$$ q_s (p) = b \\sqrt{p} $$\n",
    "\n",
    "and total demand is \n",
    "\n",
    "$$ q_d (p) = a \\exp(-p) + c, $$\n",
    "\n",
    "where $a$ and $b$ are positive parameters."
   ]
  },
  {
   "cell_type": "markdown",
   "id": "cbbcf722",
   "metadata": {},
   "source": [
    "Now we write routines to compute supply and demand as functions of price and parameters.\n",
    "\n",
    "We take $a=1$, $b=0.5$ and $c=1$ as \"default\" parameter values."
   ]
  },
  {
   "cell_type": "code",
   "execution_count": 2,
   "id": "53cec20e",
   "metadata": {},
   "outputs": [],
   "source": [
    "def supply(p, b=0.5):\n",
    "    return b * np.sqrt(p)\n",
    "\n",
    "def demand(p, a=1, c=1):\n",
    "    return a * np.exp(-p) + c"
   ]
  },
  {
   "cell_type": "markdown",
   "id": "b9a24249",
   "metadata": {},
   "source": [
    "Note that these functions are automatically NumPy \"universal functions\":"
   ]
  },
  {
   "cell_type": "code",
   "execution_count": 3,
   "id": "67dddec6",
   "metadata": {},
   "outputs": [
    {
     "data": {
      "text/plain": [
       "0.7071067811865476"
      ]
     },
     "execution_count": 3,
     "metadata": {},
     "output_type": "execute_result"
    }
   ],
   "source": [
    "supply(2.0)"
   ]
  },
  {
   "cell_type": "code",
   "execution_count": null,
   "id": "016e0e2c",
   "metadata": {},
   "outputs": [],
   "source": [
    "p_vals = np.linspace(0, 2, num=5)  # linear grid on [1, 2]\n",
    "supply(p_vals)"
   ]
  },
  {
   "cell_type": "markdown",
   "id": "77347ee6",
   "metadata": {},
   "source": [
    "### Exercise 1\n",
    "\n",
    "Plot both supply and demand as functions of $p$ on the interval $[0, 4]$ at the default parameters.\n",
    "\n",
    "* Put price on the horizonal axis.  \n",
    "* Use a legend to label the two functions and be sure to label the axes.  \n",
    "* Make a rough estimate of the equilibrium price, where demand equals supply."
   ]
  },
  {
   "cell_type": "markdown",
   "id": "0b8a0b45",
   "metadata": {},
   "source": [
    "### Solution"
   ]
  },
  {
   "cell_type": "code",
   "execution_count": null,
   "id": "b8adc67a",
   "metadata": {},
   "outputs": [],
   "source": [
    "fig, ax = plt.subplots()\n",
    "p_grid = np.linspace(0, 10, 200)\n",
    "ax.plot(p_grid, supply(p_grid), label='supply')\n",
    "ax.plot(p_grid, demand(p_grid), label='demand')\n",
    "ax.set_xlabel(\"price\")\n",
    "ax.set_ylabel(\"quantity\")\n",
    "ax.legend(frameon=False, loc='upper center')\n",
    "plt.show()"
   ]
  },
  {
   "cell_type": "markdown",
   "id": "5fc110ef",
   "metadata": {},
   "source": [
    "The equilibrium price looks to be about 4.1."
   ]
  },
  {
   "cell_type": "markdown",
   "id": "dd01174d",
   "metadata": {},
   "source": [
    "### Exercise 2\n",
    "\n",
    "Write a function that takes arguments $a, b, c, p$ and returns *excess demand*, which is defined as\n",
    "\n",
    "$$ e(p) = q_d(p) - q_s(p) $$"
   ]
  },
  {
   "cell_type": "markdown",
   "id": "20301bf0",
   "metadata": {},
   "source": [
    "### Solution"
   ]
  },
  {
   "cell_type": "code",
   "execution_count": null,
   "id": "4b549863",
   "metadata": {},
   "outputs": [],
   "source": [
    "def excess_demand(p, a=1, b=0.5, c=1):\n",
    "    return demand(p, a, c) - supply(p, b)"
   ]
  },
  {
   "cell_type": "markdown",
   "id": "9485b425",
   "metadata": {},
   "source": [
    "Now we test it:"
   ]
  },
  {
   "cell_type": "code",
   "execution_count": null,
   "id": "0993ea5d",
   "metadata": {},
   "outputs": [],
   "source": [
    "excess_demand(1.0)"
   ]
  },
  {
   "cell_type": "markdown",
   "id": "06700710",
   "metadata": {},
   "source": [
    "### Organizing our Code\n",
    "\n",
    "CONVERT code below to namedtuple for parameters and functions that use the named tuple.\n",
    "\n",
    "FIX all subsequent code."
   ]
  },
  {
   "cell_type": "code",
   "execution_count": null,
   "id": "705eee84",
   "metadata": {},
   "outputs": [],
   "source": [
    "class Market:\n",
    "\n",
    "    def __init__(self, a=1.0, b=0.5, c=1.0):\n",
    "    self.a, self.b, self.c = a, b, c\n",
    "\n",
    "    def supply(self, p):\n",
    "        return self.b * np.sqrt(p)\n",
    "    \n",
    "    def demand(self, p):\n",
    "        return self.a * np.exp(-p) + self.c\n",
    "    \n",
    "    def excess_demand(self, p):\n",
    "        return self.demand(p) - self.supply(p)"
   ]
  },
  {
   "cell_type": "markdown",
   "id": "a6d932f8",
   "metadata": {},
   "source": [
    "### Exercise 3\n",
    "\n",
    "Using these functions, plot excess demand over the interval from $0.2$ up to $4$.  Also plot a horizontal line at zero.  The equilibrium price is where excess demand crosses zero."
   ]
  },
  {
   "cell_type": "code",
   "execution_count": null,
   "id": "5ff04019",
   "metadata": {},
   "outputs": [],
   "source": [
    "market = Market()\n",
    "\n",
    "fig, ax = plt.subplots()\n",
    "p_grid = np.linspace(0, 10, 200)\n",
    "ax.plot(p_grid, market.excess_demand(p_grid), label='excess demand')\n",
    "ax.plot(p_grid, np.zeros_like(p_grid), 'k--')\n",
    "ax.set_xlabel(\"price\")\n",
    "ax.set_ylabel(\"quantity\")\n",
    "ax.legend()\n",
    "plt.show()"
   ]
  },
  {
   "cell_type": "markdown",
   "id": "061caf85",
   "metadata": {},
   "source": [
    "### Exercise 4"
   ]
  },
  {
   "cell_type": "markdown",
   "id": "9818a74f",
   "metadata": {},
   "source": [
    "Write a function that takes an instance of the `Market` class (i.e., an object `market` constructed via `market = Market()`) and returns a market clearing price via the Newton-Raphson method."
   ]
  },
  {
   "cell_type": "markdown",
   "id": "7aaf38b0",
   "metadata": {},
   "source": [
    "### Solution"
   ]
  },
  {
   "cell_type": "code",
   "execution_count": null,
   "id": "e5f1e181",
   "metadata": {},
   "outputs": [],
   "source": [
    "def compute_equilibrium(market, price_init=2.0):\n",
    "    p_star = newton(market.excess_demand, price_init)\n",
    "    return p_star"
   ]
  },
  {
   "cell_type": "code",
   "execution_count": null,
   "id": "bf59894c",
   "metadata": {},
   "outputs": [],
   "source": [
    "market = Market()\n",
    "compute_equilibrium(market)"
   ]
  },
  {
   "cell_type": "markdown",
   "id": "34c3c80e",
   "metadata": {},
   "source": [
    "### Exercise 5\n",
    "\n",
    "For $b$ in a grid of 200 values between 0.5 and 1.0, plot the equilibrium price for each $b$.\n",
    "\n",
    "Does the curve that you plotted slope up or down?  Try to provide an explanation for what you see in terms of market equilibrium."
   ]
  },
  {
   "cell_type": "markdown",
   "id": "5faa73af",
   "metadata": {},
   "source": [
    "### Solution"
   ]
  },
  {
   "cell_type": "code",
   "execution_count": null,
   "id": "fafa77f0",
   "metadata": {},
   "outputs": [],
   "source": [
    "b_grid = np.linspace(0.5, 1.0, 200)\n",
    "prices = np.empty_like(b_grid)\n",
    "for i, b in enumerate(b_grid):\n",
    "    market = Market(b=b)\n",
    "    prices[i] = compute_equilibrium(market)"
   ]
  },
  {
   "cell_type": "code",
   "execution_count": null,
   "id": "fef35de8",
   "metadata": {},
   "outputs": [],
   "source": [
    "fig, ax = plt.subplots()\n",
    "ax.plot(b_grid, prices, label=\"equilibrium prices\")\n",
    "ax.set_xlabel(\"$b$\")\n",
    "ax.set_ylabel(\"price\")\n",
    "ax.legend()\n",
    "plt.show()"
   ]
  },
  {
   "cell_type": "markdown",
   "id": "0e756aa1",
   "metadata": {},
   "source": [
    "The curve slopes down because an increase in $b$ pushes up supply at any given price.  (In other words, the supply curve shifts up.)  \n",
    "\n",
    "With greater supply, the price tends to fall."
   ]
  }
 ],
 "metadata": {
  "kernelspec": {
   "display_name": "Python 3 (ipykernel)",
   "language": "python",
   "name": "python3"
  },
  "language_info": {
   "codemirror_mode": {
    "name": "ipython",
    "version": 3
   },
   "file_extension": ".py",
   "mimetype": "text/x-python",
   "name": "python",
   "nbconvert_exporter": "python",
   "pygments_lexer": "ipython3",
   "version": "3.9.12"
  }
 },
 "nbformat": 4,
 "nbformat_minor": 5
}
