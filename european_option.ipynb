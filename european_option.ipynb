{
 "cells": [
  {
   "cell_type": "markdown",
   "metadata": {},
   "source": [
    "## Pricing a European Call Option under Risk Neutrality"
   ]
  },
  {
   "cell_type": "markdown",
   "metadata": {},
   "source": [
    "#### Written for the QuantEcon Paris Workshop (September 2022)\n",
    "#### Author: [John Stachurski](http://johnstachurski.net/)"
   ]
  },
  {
   "cell_type": "code",
   "execution_count": 1,
   "metadata": {},
   "outputs": [],
   "source": [
    "import numpy as np\n",
    "import matplotlib.pyplot as plt"
   ]
  },
  {
   "cell_type": "markdown",
   "metadata": {},
   "source": [
    "We are going to price a European call option under the assumption of risk neutrality.  The price satisfies\n",
    "\n",
    "\n",
    "$$ P = \\beta^n \\mathbb E \\max\\{ S_n - K, 0 \\} $$\n",
    "\n",
    "where\n",
    "\n",
    "1. $\\beta$ is a discount factor,\n",
    "2. $n$ is the expiry date,\n",
    "2. $K$ is the strike price and\n",
    "3. $\\{S_t\\}$ is the price of the underlying asset at each time $t$.\n",
    "\n",
    "(For example, if the call option is to buy stock in Amazon at strike price $K$, the owner has the right to buy 1 share in Amazon at price $K$ after $n$ days.  The price is the expectation of the return $\\max\\{S_n - K, 0\\}$, discounted to today's value.)"
   ]
  },
  {
   "cell_type": "markdown",
   "metadata": {},
   "source": [
    "### Exercise 1\n",
    "\n",
    "Suppose that $S_n$ has the [log-normal](https://en.wikipedia.org/wiki/Log-normal_distribution) distribution with parameters $\\mu$ and $\\sigma$.  Let $f$ denote the density of this distribution.  Then\n",
    "\n",
    "$$ P = \\beta^n \\int_0^\\infty \\max\\{x - K, 0\\} f(x) dx $$\n",
    "\n",
    "1. Plot the function \n",
    "\n",
    "$$g(x) = \\beta^n  \\max\\{x - K, 0\\} f(x)$$ \n",
    "\n",
    "over the interval $[0, 1000]$ when "
   ]
  },
  {
   "cell_type": "code",
   "execution_count": 2,
   "metadata": {},
   "outputs": [],
   "source": [
    "μ, σ, β, n, K = 5, 2, 0.99, 10, 10"
   ]
  },
  {
   "cell_type": "markdown",
   "metadata": {},
   "source": [
    "2. Using the [quad](https://docs.scipy.org/doc/scipy/reference/generated/scipy.integrate.quad.html) function from SciPy, compute the price $P$."
   ]
  },
  {
   "cell_type": "markdown",
   "metadata": {},
   "source": [
    "### Solution"
   ]
  },
  {
   "cell_type": "markdown",
   "metadata": {},
   "source": [
    "First let's do the plot."
   ]
  },
  {
   "cell_type": "code",
   "execution_count": 3,
   "metadata": {},
   "outputs": [
    {
     "data": {
      "image/png": "[encoded data removed]",
      "text/plain": [
       "<Figure size 432x288 with 1 Axes>"
      ]
     },
     "metadata": {
      "needs_background": "light"
     },
     "output_type": "display_data"
    }
   ],
   "source": [
    "from scipy.integrate import quad\n",
    "from scipy.stats import lognorm\n",
    "\n",
    "def g(x):\n",
    "    return β**n * np.maximum(x - K, 0) * lognorm.pdf(x, σ, loc=μ)\n",
    "\n",
    "x_grid = np.linspace(0, 1000, 1000)\n",
    "y_grid = [g(x) for x in x_grid]\n",
    "\n",
    "fig, ax = plt.subplots()\n",
    "ax.plot(x_grid, y_grid, label=\"$g$\")\n",
    "ax.legend()\n",
    "plt.show()"
   ]
  },
  {
   "cell_type": "markdown",
   "metadata": {},
   "source": [
    "The integral and hence the price is"
   ]
  },
  {
   "cell_type": "code",
   "execution_count": 4,
   "metadata": {},
   "outputs": [
    {
     "data": {
      "text/plain": [
       "4.955035450241542"
      ]
     },
     "execution_count": 4,
     "metadata": {},
     "output_type": "execute_result"
    }
   ],
   "source": [
    "integral, error = quad(g, 0, 100_000)\n",
    "integral"
   ]
  },
  {
   "cell_type": "markdown",
   "metadata": {},
   "source": [
    "### Exercise 2"
   ]
  },
  {
   "cell_type": "markdown",
   "metadata": {},
   "source": [
    "A common model for $\\{S_t\\}$ is\n",
    "\n",
    "$$ \\ln \\frac{S_{t+1}}{S_t} = \\mu + \\sigma \\xi_{t+1} $$\n",
    "\n",
    "where $\\{ \\xi_t \\}$ is IID and standard normal.  However, its predictions are in some ways counterfactual.  For example, volatility is not stationary but rather changes over time.  Here's an improved version:\n",
    "\n",
    "$$ \\ln \\frac{S_{t+1}}{S_t} = \\mu + \\sigma_t \\xi_{t+1} $$\n",
    "\n",
    "where \n",
    "\n",
    "$$ \n",
    "    \\sigma_t = \\exp(h_t), \n",
    "    \\quad\n",
    "        h_{t+1} = \\rho h_t + \\nu \\eta_{t+1}\n",
    "$$\n",
    "\n",
    "Here $\\{\\eta_t\\}$ is also IID and standard normal."
   ]
  },
  {
   "cell_type": "markdown",
   "metadata": {},
   "source": [
    "Write a function that simulates the sequence $S_0, \\ldots, S_n$, where the parameters are set to "
   ]
  },
  {
   "cell_type": "code",
   "execution_count": 5,
   "metadata": {},
   "outputs": [],
   "source": [
    "μ  = 0.0001\n",
    "ρ  = 0.1\n",
    "ν  = 0.001\n",
    "S0 = 10\n",
    "h0 = 0\n",
    "n  = 20\n"
   ]
  },
  {
   "cell_type": "markdown",
   "metadata": {},
   "source": [
    "(Here `S0` is $S_0$ and `h0` is $h_0$.)"
   ]
  },
  {
   "cell_type": "markdown",
   "metadata": {},
   "source": [
    "Plot 50 paths of the form $S_0, \\ldots, S_n$.  "
   ]
  },
  {
   "cell_type": "markdown",
   "metadata": {},
   "source": [
    "### Solution "
   ]
  },
  {
   "cell_type": "markdown",
   "metadata": {},
   "source": [
    "With $s_t := \\ln S_t$, the price dynamics become\n",
    "\n",
    "$$ s_{t+1} = s_t + \\mu + \\exp(h_t) \\xi_{t+1} $$\n",
    "\n",
    "Here is a function to simulate a path using this equation:"
   ]
  },
  {
   "cell_type": "code",
   "execution_count": 6,
   "metadata": {},
   "outputs": [],
   "source": [
    "from numpy.random import randn\n",
    "\n",
    "def simulate_asset_price_path(μ=μ, S0=S0, h0=h0, n=n, ρ=ρ, ν=ν):\n",
    "    s = np.empty(n+1)\n",
    "    s[0] = np.log(S0)\n",
    "\n",
    "    h = h0\n",
    "    for t in range(n):\n",
    "        s[t+1] = s[t] + μ + np.exp(h) * randn()\n",
    "        h = ρ * h + ν * randn()\n",
    "        \n",
    "    return np.exp(s)"
   ]
  },
  {
   "cell_type": "markdown",
   "metadata": {},
   "source": [
    "Here we plot the paths and the log of the paths."
   ]
  },
  {
   "cell_type": "code",
   "execution_count": 7,
   "metadata": {},
   "outputs": [
    {
     "data": {
      "image/png": "[encoded data removed]",
      "text/plain": [
       "<Figure size 432x288 with 2 Axes>"
      ]
     },
     "metadata": {
      "needs_background": "light"
     },
     "output_type": "display_data"
    }
   ],
   "source": [
    "fig, axes = plt.subplots(2, 1)\n",
    "\n",
    "titles = 'log paths', 'paths'\n",
    "transforms = np.log, lambda x: x\n",
    "for ax, transform, title in zip(axes, transforms, titles):\n",
    "    for i in range(50):\n",
    "        path = simulate_asset_price_path()\n",
    "        ax.plot(transform(path))\n",
    "    ax.set_title(title)\n",
    "    \n",
    "fig.tight_layout()\n",
    "plt.show()"
   ]
  },
  {
   "cell_type": "markdown",
   "metadata": {},
   "source": [
    "### Exercise 3"
   ]
  },
  {
   "cell_type": "markdown",
   "metadata": {},
   "source": [
    "Compute the price of the option $P_0$ by Monte Carlo, averaging over realizations $S_n^1, \\ldots, S_n^M$ of $S_n$ and appealing to the law of large numbers:\n",
    "\n",
    "$$ \\mathbb E \\max\\{ S_n - K, 0 \\} \n",
    "    \\approx\n",
    "    \\frac{1}{M} \\sum_{m=1}^M \\max \\{S_n^m - K, 0 \\}\n",
    "    $$\n",
    "    \n",
    "Use the values given below:"
   ]
  },
  {
   "cell_type": "code",
   "execution_count": 25,
   "metadata": {},
   "outputs": [],
   "source": [
    "M = 10_000_000\n",
    "K = 100\n",
    "n = 10\n",
    "β = 0.95"
   ]
  },
  {
   "cell_type": "markdown",
   "metadata": {},
   "source": [
    "To the extend that you can, write fast, efficient code to compute the option price.  \n",
    "\n",
    "In particular, try to speed up the code above using `jit` or `njit` from Numba.  "
   ]
  },
  {
   "cell_type": "markdown",
   "metadata": {},
   "source": [
    "### Solution"
   ]
  },
  {
   "cell_type": "code",
   "execution_count": 26,
   "metadata": {},
   "outputs": [],
   "source": [
    "from numba import njit, prange"
   ]
  },
  {
   "cell_type": "code",
   "execution_count": 27,
   "metadata": {},
   "outputs": [],
   "source": [
    "@njit\n",
    "def compute_call_price(β=β,\n",
    "                       μ=μ,\n",
    "                       S0=S0,\n",
    "                       h0=h0,\n",
    "                       K=K,\n",
    "                       n=n,\n",
    "                       ρ=ρ,\n",
    "                       ν=ν,\n",
    "                       M=M):\n",
    "    current_sum = 0.0\n",
    "    # For each sample path\n",
    "    for m in range(M):\n",
    "        s = np.log(S0)\n",
    "        h = h0\n",
    "        # Simulate forward in time\n",
    "        for t in range(n):\n",
    "            s = s + μ + np.exp(h) * randn()\n",
    "            h = ρ * h + ν * randn()\n",
    "        # And add the value max{S_n - K, 0} to current_sum\n",
    "        current_sum += np.maximum(np.exp(s) - K, 0)\n",
    "        \n",
    "    return β**n * current_sum / M"
   ]
  },
  {
   "cell_type": "code",
   "execution_count": 28,
   "metadata": {},
   "outputs": [
    {
     "name": "stdout",
     "output_type": "stream",
     "text": [
      "CPU times: user 4.79 s, sys: 31.9 ms, total: 4.82 s\n",
      "Wall time: 4.79 s\n"
     ]
    },
    {
     "data": {
      "text/plain": [
       "911.6915347953577"
      ]
     },
     "execution_count": 28,
     "metadata": {},
     "output_type": "execute_result"
    }
   ],
   "source": [
    "%%time \n",
    "compute_call_price()"
   ]
  },
  {
   "cell_type": "markdown",
   "metadata": {},
   "source": [
    "### Exercise 4\n",
    "\n",
    "If you can, use `prange` from Numba to parallelize this code and make it even faster."
   ]
  },
  {
   "cell_type": "markdown",
   "metadata": {},
   "source": [
    "### Solution"
   ]
  },
  {
   "cell_type": "code",
   "execution_count": 23,
   "metadata": {},
   "outputs": [],
   "source": [
    "@njit(parallel=True)\n",
    "def compute_call_price_parallel(β=β,\n",
    "                                μ=μ,\n",
    "                                S0=S0,\n",
    "                                h0=h0,\n",
    "                                K=K,\n",
    "                                n=n,\n",
    "                                ρ=ρ,\n",
    "                                ν=ν,\n",
    "                                M=M):\n",
    "    current_sum = 0.0\n",
    "    # For each sample path\n",
    "    for m in prange(M):\n",
    "        s = np.log(S0)\n",
    "        h = h0\n",
    "        # Simulate forward in time\n",
    "        for t in range(n):\n",
    "            s = s + μ + np.exp(h) * randn()\n",
    "            h = ρ * h + ν * randn()\n",
    "        # And add the value max{S_n - K, 0} to current_sum\n",
    "        current_sum += np.maximum(np.exp(s) - K, 0)\n",
    "        \n",
    "    return β**n * current_sum / M"
   ]
  },
  {
   "cell_type": "code",
   "execution_count": 24,
   "metadata": {},
   "outputs": [
    {
     "name": "stdout",
     "output_type": "stream",
     "text": [
      "CPU times: user 998 ms, sys: 7.95 ms, total: 1.01 s\n",
      "Wall time: 420 ms\n"
     ]
    },
    {
     "data": {
      "text/plain": [
       "812.3789153974424"
      ]
     },
     "execution_count": 24,
     "metadata": {},
     "output_type": "execute_result"
    }
   ],
   "source": [
    "%%time\n",
    "compute_call_price_parallel()"
   ]
  },
  {
   "cell_type": "code",
   "execution_count": 14,
   "metadata": {},
   "outputs": [
    {
     "name": "stdout",
     "output_type": "stream",
     "text": [
      "CPU times: user 7.13 s, sys: 0 ns, total: 7.13 s\n",
      "Wall time: 929 ms\n"
     ]
    },
    {
     "data": {
      "text/plain": [
       "851.3072565665748"
      ]
     },
     "execution_count": 14,
     "metadata": {},
     "output_type": "execute_result"
    }
   ],
   "source": [
    "%%time\n",
    "compute_call_price_parallel()"
   ]
  },
  {
   "cell_type": "markdown",
   "metadata": {},
   "source": [
    "### Exercise 5\n",
    "\n",
    "Try to shift the whole operation to the GPU using JAX and test your speed gain."
   ]
  },
  {
   "cell_type": "markdown",
   "metadata": {},
   "source": [
    "### Solution"
   ]
  },
  {
   "cell_type": "code",
   "execution_count": 15,
   "metadata": {},
   "outputs": [
    {
     "name": "stdout",
     "output_type": "stream",
     "text": [
      "Tue Aug 16 09:24:34 2022       \r\n",
      "+-----------------------------------------------------------------------------+\r\n",
      "| NVIDIA-SMI 515.65.01    Driver Version: 515.65.01    CUDA Version: 11.7     |\r\n",
      "|-------------------------------+----------------------+----------------------+\r\n",
      "| GPU  Name        Persistence-M| Bus-Id        Disp.A | Volatile Uncorr. ECC |\r\n",
      "| Fan  Temp  Perf  Pwr:Usage/Cap|         Memory-Usage | GPU-Util  Compute M. |\r\n",
      "|                               |                      |               MIG M. |\r\n",
      "|===============================+======================+======================|\r\n",
      "|   0  NVIDIA GeForce ...  Off  | 00000000:3B:00.0 Off |                  N/A |\r\n",
      "| 30%   25C    P8    25W / 320W |   9092MiB / 10240MiB |      0%      Default |\r\n",
      "|                               |                      |                  N/A |\r\n",
      "+-------------------------------+----------------------+----------------------+\r\n",
      "                                                                               \r\n",
      "+-----------------------------------------------------------------------------+\r\n",
      "| Processes:                                                                  |\r\n",
      "|  GPU   GI   CI        PID   Type   Process name                  GPU Memory |\r\n",
      "|        ID   ID                                                   Usage      |\r\n",
      "|=============================================================================|\r\n",
      "|    0   N/A  N/A   3469892      C   ...john/anaconda3/bin/python     9089MiB |\r\n",
      "+-----------------------------------------------------------------------------+\r\n"
     ]
    }
   ],
   "source": [
    "!nvidia-smi"
   ]
  },
  {
   "cell_type": "code",
   "execution_count": 16,
   "metadata": {},
   "outputs": [],
   "source": [
    "import jax\n",
    "import jax.numpy as jnp"
   ]
  },
  {
   "cell_type": "code",
   "execution_count": 17,
   "metadata": {},
   "outputs": [],
   "source": [
    "@jax.jit\n",
    "def compute_call_price_jax(β=β,\n",
    "                           μ=μ,\n",
    "                           S0=S0,\n",
    "                           h0=h0,\n",
    "                           K=K,\n",
    "                           n=n,\n",
    "                           ρ=ρ,\n",
    "                           ν=ν,\n",
    "                           M=M):\n",
    "\n",
    "    s = jnp.full(M, np.log(S0))\n",
    "    h = jnp.full(M, h0)\n",
    "    for t in range(n):\n",
    "        key = jax.random.PRNGKey(t)\n",
    "        Z = jax.random.normal(key, (2, M))\n",
    "        s = s + μ + jnp.exp(h) * Z[0, :]\n",
    "        h = ρ * h + ν * Z[1, :]\n",
    "    expectation = jnp.mean(jnp.maximum(jnp.exp(s) - K, 0))\n",
    "        \n",
    "    return β**n * expectation"
   ]
  },
  {
   "cell_type": "code",
   "execution_count": 18,
   "metadata": {},
   "outputs": [
    {
     "name": "stderr",
     "output_type": "stream",
     "text": [
      "2022-08-16 09:25:07.567607: W external/org_tensorflow/tensorflow/core/common_runtime/bfc_allocator.cc:479] Allocator (GPU_0_bfc) ran out of memory trying to allocate 2.91GiB (rounded to 3120014080)requested by op \n",
      "2022-08-16 09:25:07.567859: W external/org_tensorflow/tensorflow/core/common_runtime/bfc_allocator.cc:491] *___________________________________________________________________________________________________\n",
      "2022-08-16 09:25:07.568377: E external/org_tensorflow/tensorflow/compiler/xla/pjrt/pjrt_stream_executor_client.cc:2130] Execution of replica 0 failed: RESOURCE_EXHAUSTED: Out of memory while trying to allocate 3120013840 bytes.\n",
      "BufferAssignment OOM Debugging.\n",
      "BufferAssignment stats:\n",
      "             parameter allocation:         0B\n",
      "              constant allocation:       160B\n",
      "        maybe_live_out allocation:         4B\n",
      "     preallocated temp allocation:    2.91GiB\n",
      "  preallocated temp fragmentation:         0B (0.00%)\n",
      "                 total allocation:    2.91GiB\n",
      "              total fragmentation:     1.3KiB (0.00%)\n",
      "Peak buffers:\n",
      "\tBuffer 1:\n",
      "\t\tSize: 76.29MiB\n",
      "\t\tOperator: op_name=\"broadcast.52\"\n",
      "\t\tXLA Label: broadcast\n",
      "\t\tShape: f32[2,10000000]\n",
      "\t\t==========================\n",
      "\n",
      "\tBuffer 2:\n",
      "\t\tSize: 76.29MiB\n",
      "\t\tOperator: op_name=\"broadcast.54\"\n",
      "\t\tXLA Label: broadcast\n",
      "\t\tShape: f32[2,10000000]\n",
      "\t\t==========================\n",
      "\n",
      "\tBuffer 3:\n",
      "\t\tSize: 76.29MiB\n",
      "\t\tOperator: op_name=\"broadcast.45\"\n",
      "\t\tXLA Label: broadcast\n",
      "\t\tShape: f32[2,10000000]\n",
      "\t\t==========================\n",
      "\n",
      "\tBuffer 4:\n",
      "\t\tSize: 76.29MiB\n",
      "\t\tOperator: op_name=\"broadcast.47\"\n",
      "\t\tXLA Label: broadcast\n",
      "\t\tShape: f32[2,10000000]\n",
      "\t\t==========================\n",
      "\n",
      "\tBuffer 5:\n",
      "\t\tSize: 76.29MiB\n",
      "\t\tOperator: op_name=\"broadcast.38\"\n",
      "\t\tXLA Label: broadcast\n",
      "\t\tShape: f32[2,10000000]\n",
      "\t\t==========================\n",
      "\n",
      "\tBuffer 6:\n",
      "\t\tSize: 76.29MiB\n",
      "\t\tOperator: op_name=\"broadcast.40\"\n",
      "\t\tXLA Label: broadcast\n",
      "\t\tShape: f32[2,10000000]\n",
      "\t\t==========================\n",
      "\n",
      "\tBuffer 7:\n",
      "\t\tSize: 76.29MiB\n",
      "\t\tOperator: op_name=\"broadcast.31\"\n",
      "\t\tXLA Label: broadcast\n",
      "\t\tShape: f32[2,10000000]\n",
      "\t\t==========================\n",
      "\n",
      "\tBuffer 8:\n",
      "\t\tSize: 76.29MiB\n",
      "\t\tOperator: op_name=\"broadcast.33\"\n",
      "\t\tXLA Label: broadcast\n",
      "\t\tShape: f32[2,10000000]\n",
      "\t\t==========================\n",
      "\n",
      "\tBuffer 9:\n",
      "\t\tSize: 76.29MiB\n",
      "\t\tOperator: op_name=\"broadcast.24\"\n",
      "\t\tXLA Label: broadcast\n",
      "\t\tShape: f32[2,10000000]\n",
      "\t\t==========================\n",
      "\n",
      "\tBuffer 10:\n",
      "\t\tSize: 76.29MiB\n",
      "\t\tOperator: op_name=\"broadcast.26\"\n",
      "\t\tXLA Label: broadcast\n",
      "\t\tShape: f32[2,10000000]\n",
      "\t\t==========================\n",
      "\n",
      "\tBuffer 11:\n",
      "\t\tSize: 76.29MiB\n",
      "\t\tOperator: op_name=\"broadcast.18\"\n",
      "\t\tXLA Label: broadcast\n",
      "\t\tShape: f32[2,10000000]\n",
      "\t\t==========================\n",
      "\n",
      "\tBuffer 12:\n",
      "\t\tSize: 76.29MiB\n",
      "\t\tOperator: op_name=\"broadcast.20\"\n",
      "\t\tXLA Label: broadcast\n",
      "\t\tShape: f32[2,10000000]\n",
      "\t\t==========================\n",
      "\n",
      "\tBuffer 13:\n",
      "\t\tSize: 76.29MiB\n",
      "\t\tXLA Label: broadcast\n",
      "\t\tShape: f32[2,10000000]\n",
      "\t\t==========================\n",
      "\n",
      "\tBuffer 14:\n",
      "\t\tSize: 76.29MiB\n",
      "\t\tXLA Label: broadcast\n",
      "\t\tShape: f32[2,10000000]\n",
      "\t\t==========================\n",
      "\n",
      "\tBuffer 15:\n",
      "\t\tSize: 76.29MiB\n",
      "\t\tOperator: op_name=\"jit(compute_call_price_jax)/jit(main)/mul\" source_file=\"/tmp/ipykernel_3583610/2847803634.py\" source_line=16\n",
      "\t\tXLA Label: broadcast\n",
      "\t\tShape: f32[2,10000000]\n",
      "\t\t==========================\n",
      "\n",
      "\n"
     ]
    },
    {
     "ename": "XlaRuntimeError",
     "evalue": "RESOURCE_EXHAUSTED: Out of memory while trying to allocate 3120013840 bytes.\nBufferAssignment OOM Debugging.\nBufferAssignment stats:\n             parameter allocation:         0B\n              constant allocation:       160B\n        maybe_live_out allocation:         4B\n     preallocated temp allocation:    2.91GiB\n  preallocated temp fragmentation:         0B (0.00%)\n                 total allocation:    2.91GiB\n              total fragmentation:     1.3KiB (0.00%)\nPeak buffers:\n\tBuffer 1:\n\t\tSize: 76.29MiB\n\t\tOperator: op_name=\"broadcast.52\"\n\t\tXLA Label: broadcast\n\t\tShape: f32[2,10000000]\n\t\t==========================\n\n\tBuffer 2:\n\t\tSize: 76.29MiB\n\t\tOperator: op_name=\"broadcast.54\"\n\t\tXLA Label: broadcast\n\t\tShape: f32[2,10000000]\n\t\t==========================\n\n\tBuffer 3:\n\t\tSize: 76.29MiB\n\t\tOperator: op_name=\"broadcast.45\"\n\t\tXLA Label: broadcast\n\t\tShape: f32[2,10000000]\n\t\t==========================\n\n\tBuffer 4:\n\t\tSize: 76.29MiB\n\t\tOperator: op_name=\"broadcast.47\"\n\t\tXLA Label: broadcast\n\t\tShape: f32[2,10000000]\n\t\t==========================\n\n\tBuffer 5:\n\t\tSize: 76.29MiB\n\t\tOperator: op_name=\"broadcast.38\"\n\t\tXLA Label: broadcast\n\t\tShape: f32[2,10000000]\n\t\t==========================\n\n\tBuffer 6:\n\t\tSize: 76.29MiB\n\t\tOperator: op_name=\"broadcast.40\"\n\t\tXLA Label: broadcast\n\t\tShape: f32[2,10000000]\n\t\t==========================\n\n\tBuffer 7:\n\t\tSize: 76.29MiB\n\t\tOperator: op_name=\"broadcast.31\"\n\t\tXLA Label: broadcast\n\t\tShape: f32[2,10000000]\n\t\t==========================\n\n\tBuffer 8:\n\t\tSize: 76.29MiB\n\t\tOperator: op_name=\"broadcast.33\"\n\t\tXLA Label: broadcast\n\t\tShape: f32[2,10000000]\n\t\t==========================\n\n\tBuffer 9:\n\t\tSize: 76.29MiB\n\t\tOperator: op_name=\"broadcast.24\"\n\t\tXLA Label: broadcast\n\t\tShape: f32[2,10000000]\n\t\t==========================\n\n\tBuffer 10:\n\t\tSize: 76.29MiB\n\t\tOperator: op_name=\"broadcast.26\"\n\t\tXLA Label: broadcast\n\t\tShape: f32[2,10000000]\n\t\t==========================\n\n\tBuffer 11:\n\t\tSize: 76.29MiB\n\t\tOperator: op_name=\"broadcast.18\"\n\t\tXLA Label: broadcast\n\t\tShape: f32[2,10000000]\n\t\t==========================\n\n\tBuffer 12:\n\t\tSize: 76.29MiB\n\t\tOperator: op_name=\"broadcast.20\"\n\t\tXLA Label: broadcast\n\t\tShape: f32[2,10000000]\n\t\t==========================\n\n\tBuffer 13:\n\t\tSize: 76.29MiB\n\t\tXLA Label: broadcast\n\t\tShape: f32[2,10000000]\n\t\t==========================\n\n\tBuffer 14:\n\t\tSize: 76.29MiB\n\t\tXLA Label: broadcast\n\t\tShape: f32[2,10000000]\n\t\t==========================\n\n\tBuffer 15:\n\t\tSize: 76.29MiB\n\t\tOperator: op_name=\"jit(compute_call_price_jax)/jit(main)/mul\" source_file=\"/tmp/ipykernel_3583610/2847803634.py\" source_line=16\n\t\tXLA Label: broadcast\n\t\tShape: f32[2,10000000]\n\t\t==========================\n\n",
     "output_type": "error",
     "traceback": [
      "\u001b[0;31m---------------------------------------------------------------------------\u001b[0m",
      "\u001b[0;31mXlaRuntimeError\u001b[0m                           Traceback (most recent call last)",
      "File \u001b[0;32m<timed eval>:1\u001b[0m, in \u001b[0;36m<module>\u001b[0;34m\u001b[0m\n",
      "    \u001b[0;31m[... skipping hidden 6 frame]\u001b[0m\n",
      "File \u001b[0;32m~/anaconda3/lib/python3.9/site-packages/jax/_src/dispatch.py:755\u001b[0m, in \u001b[0;36m_execute_compiled\u001b[0;34m(name, compiled, input_handler, output_buffer_counts, result_handler, has_unordered_effects, ordered_effects, kept_var_idx, *args)\u001b[0m\n\u001b[1;32m    753\u001b[0m     runtime_token \u001b[38;5;241m=\u001b[39m \u001b[38;5;28;01mNone\u001b[39;00m\n\u001b[1;32m    754\u001b[0m \u001b[38;5;28;01melse\u001b[39;00m:\n\u001b[0;32m--> 755\u001b[0m   out_flat \u001b[38;5;241m=\u001b[39m \u001b[43mcompiled\u001b[49m\u001b[38;5;241;43m.\u001b[39;49m\u001b[43mexecute\u001b[49m\u001b[43m(\u001b[49m\u001b[43min_flat\u001b[49m\u001b[43m)\u001b[49m\n\u001b[1;32m    756\u001b[0m check_special(name, out_flat)\n\u001b[1;32m    757\u001b[0m out_bufs \u001b[38;5;241m=\u001b[39m unflatten(out_flat, output_buffer_counts)\n",
      "\u001b[0;31mXlaRuntimeError\u001b[0m: RESOURCE_EXHAUSTED: Out of memory while trying to allocate 3120013840 bytes.\nBufferAssignment OOM Debugging.\nBufferAssignment stats:\n             parameter allocation:         0B\n              constant allocation:       160B\n        maybe_live_out allocation:         4B\n     preallocated temp allocation:    2.91GiB\n  preallocated temp fragmentation:         0B (0.00%)\n                 total allocation:    2.91GiB\n              total fragmentation:     1.3KiB (0.00%)\nPeak buffers:\n\tBuffer 1:\n\t\tSize: 76.29MiB\n\t\tOperator: op_name=\"broadcast.52\"\n\t\tXLA Label: broadcast\n\t\tShape: f32[2,10000000]\n\t\t==========================\n\n\tBuffer 2:\n\t\tSize: 76.29MiB\n\t\tOperator: op_name=\"broadcast.54\"\n\t\tXLA Label: broadcast\n\t\tShape: f32[2,10000000]\n\t\t==========================\n\n\tBuffer 3:\n\t\tSize: 76.29MiB\n\t\tOperator: op_name=\"broadcast.45\"\n\t\tXLA Label: broadcast\n\t\tShape: f32[2,10000000]\n\t\t==========================\n\n\tBuffer 4:\n\t\tSize: 76.29MiB\n\t\tOperator: op_name=\"broadcast.47\"\n\t\tXLA Label: broadcast\n\t\tShape: f32[2,10000000]\n\t\t==========================\n\n\tBuffer 5:\n\t\tSize: 76.29MiB\n\t\tOperator: op_name=\"broadcast.38\"\n\t\tXLA Label: broadcast\n\t\tShape: f32[2,10000000]\n\t\t==========================\n\n\tBuffer 6:\n\t\tSize: 76.29MiB\n\t\tOperator: op_name=\"broadcast.40\"\n\t\tXLA Label: broadcast\n\t\tShape: f32[2,10000000]\n\t\t==========================\n\n\tBuffer 7:\n\t\tSize: 76.29MiB\n\t\tOperator: op_name=\"broadcast.31\"\n\t\tXLA Label: broadcast\n\t\tShape: f32[2,10000000]\n\t\t==========================\n\n\tBuffer 8:\n\t\tSize: 76.29MiB\n\t\tOperator: op_name=\"broadcast.33\"\n\t\tXLA Label: broadcast\n\t\tShape: f32[2,10000000]\n\t\t==========================\n\n\tBuffer 9:\n\t\tSize: 76.29MiB\n\t\tOperator: op_name=\"broadcast.24\"\n\t\tXLA Label: broadcast\n\t\tShape: f32[2,10000000]\n\t\t==========================\n\n\tBuffer 10:\n\t\tSize: 76.29MiB\n\t\tOperator: op_name=\"broadcast.26\"\n\t\tXLA Label: broadcast\n\t\tShape: f32[2,10000000]\n\t\t==========================\n\n\tBuffer 11:\n\t\tSize: 76.29MiB\n\t\tOperator: op_name=\"broadcast.18\"\n\t\tXLA Label: broadcast\n\t\tShape: f32[2,10000000]\n\t\t==========================\n\n\tBuffer 12:\n\t\tSize: 76.29MiB\n\t\tOperator: op_name=\"broadcast.20\"\n\t\tXLA Label: broadcast\n\t\tShape: f32[2,10000000]\n\t\t==========================\n\n\tBuffer 13:\n\t\tSize: 76.29MiB\n\t\tXLA Label: broadcast\n\t\tShape: f32[2,10000000]\n\t\t==========================\n\n\tBuffer 14:\n\t\tSize: 76.29MiB\n\t\tXLA Label: broadcast\n\t\tShape: f32[2,10000000]\n\t\t==========================\n\n\tBuffer 15:\n\t\tSize: 76.29MiB\n\t\tOperator: op_name=\"jit(compute_call_price_jax)/jit(main)/mul\" source_file=\"/tmp/ipykernel_3583610/2847803634.py\" source_line=16\n\t\tXLA Label: broadcast\n\t\tShape: f32[2,10000000]\n\t\t==========================\n\n"
     ]
    }
   ],
   "source": [
    "%%time \n",
    "compute_call_price_jax()"
   ]
  },
  {
   "cell_type": "code",
   "execution_count": 91,
   "metadata": {},
   "outputs": [
    {
     "name": "stdout",
     "output_type": "stream",
     "text": [
      "CPU times: user 35.9 ms, sys: 7.99 ms, total: 43.9 ms\n",
      "Wall time: 41.1 ms\n"
     ]
    },
    {
     "data": {
      "text/plain": [
       "DeviceArray(873.7056, dtype=float32)"
      ]
     },
     "execution_count": 91,
     "metadata": {},
     "output_type": "execute_result"
    }
   ],
   "source": [
    "%%time \n",
    "compute_call_price_jax()"
   ]
  },
  {
   "cell_type": "code",
   "execution_count": null,
   "metadata": {},
   "outputs": [],
   "source": []
  }
 ],
 "metadata": {
  "kernelspec": {
   "display_name": "Python 3 (ipykernel)",
   "language": "python",
   "name": "python3"
  },
  "language_info": {
   "codemirror_mode": {
    "name": "ipython",
    "version": 3
   },
   "file_extension": ".py",
   "mimetype": "text/x-python",
   "name": "python",
   "nbconvert_exporter": "python",
   "pygments_lexer": "ipython3",
   "version": "3.9.12"
  }
 },
 "nbformat": 4,
 "nbformat_minor": 2
}
